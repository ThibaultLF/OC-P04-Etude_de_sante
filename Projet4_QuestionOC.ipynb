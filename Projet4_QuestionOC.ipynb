{
 "cells": [
  {
   "cell_type": "markdown",
   "id": "96c27a67",
   "metadata": {},
   "source": [
    "# Projet 4\n",
    "\n",
    "Ce projet a pour but d'étudier la sous nutrition dans le monde à partir des données de la [FAO](https://www.fao.org/faostat/fr/#data/SCL). Dans ce notebook, nous ne ferons que répondre aux questions posées.\n",
    "\n",
    "## 1. Importation\n",
    "\n",
    "Nous commençons par quelques réglages et imports de librairie:"
   ]
  },
  {
   "cell_type": "code",
   "execution_count": 1,
   "id": "95f1ef54",
   "metadata": {},
   "outputs": [],
   "source": [
    "options(digits=4, width=120)\n",
    "suppressWarnings(library(ggplot2))\n",
    "suppressWarnings(library(plyr))\n",
    "suppressWarnings(library(plotly, warn.conflicts = F))"
   ]
  },
  {
   "cell_type": "markdown",
   "id": "426b4b6e",
   "metadata": {},
   "source": [
    "Ceci étant fait, nous pouvons importer les données fournies par Marc, _responsable de l'équipe au sein de la FAO._"
   ]
  },
  {
   "cell_type": "code",
   "execution_count": 2,
   "id": "7c5e967d",
   "metadata": {
    "scrolled": false
   },
   "outputs": [],
   "source": [
    "aide <- read.csv(\"aide_alimentaire.csv\", encoding = 'UTF-8')\n",
    "dispo <- read.csv(\"dispo_alimentaire.csv\", encoding = 'UTF-8')\n",
    "pop <- read.csv(\"population.csv\", encoding = 'UTF-8')\n",
    "sous_nut <- read.csv(\"sous_nutrition.csv\", encoding = 'UTF-8')"
   ]
  },
  {
   "cell_type": "markdown",
   "id": "d06ba002",
   "metadata": {},
   "source": [
    "## 2. Analyse primaire \n",
    "\n",
    "On va regarder le type des données, les valeurs etc. afin d'avoir un aperçu de chaque variable.\n",
    "\n",
    "### 2.1 Aide alimentaire"
   ]
  },
  {
   "cell_type": "code",
   "execution_count": 3,
   "id": "091eb087",
   "metadata": {
    "scrolled": false
   },
   "outputs": [
    {
     "data": {
      "text/html": [
       "<table class=\"dataframe\">\n",
       "<caption>A data.frame: 6 × 4</caption>\n",
       "<thead>\n",
       "\t<tr><th></th><th scope=col>Pays.bénéficiaire</th><th scope=col>Année</th><th scope=col>Produit</th><th scope=col>Valeur</th></tr>\n",
       "\t<tr><th></th><th scope=col>&lt;chr&gt;</th><th scope=col>&lt;int&gt;</th><th scope=col>&lt;chr&gt;</th><th scope=col>&lt;int&gt;</th></tr>\n",
       "</thead>\n",
       "<tbody>\n",
       "\t<tr><th scope=row>1</th><td>Afghanistan</td><td>2013</td><td>Autres non-céréales</td><td>  682</td></tr>\n",
       "\t<tr><th scope=row>2</th><td>Afghanistan</td><td>2014</td><td>Autres non-céréales</td><td>  335</td></tr>\n",
       "\t<tr><th scope=row>3</th><td>Afghanistan</td><td>2013</td><td>Blé et Farin       </td><td>39224</td></tr>\n",
       "\t<tr><th scope=row>4</th><td>Afghanistan</td><td>2014</td><td>Blé et Farin       </td><td>15160</td></tr>\n",
       "\t<tr><th scope=row>5</th><td>Afghanistan</td><td>2013</td><td>Céréales           </td><td>40504</td></tr>\n",
       "\t<tr><th scope=row>6</th><td>Afghanistan</td><td>2014</td><td>Céréales           </td><td>15989</td></tr>\n",
       "</tbody>\n",
       "</table>\n"
      ],
      "text/latex": [
       "A data.frame: 6 × 4\n",
       "\\begin{tabular}{r|llll}\n",
       "  & Pays.bénéficiaire & Année & Produit & Valeur\\\\\n",
       "  & <chr> & <int> & <chr> & <int>\\\\\n",
       "\\hline\n",
       "\t1 & Afghanistan & 2013 & Autres non-céréales &   682\\\\\n",
       "\t2 & Afghanistan & 2014 & Autres non-céréales &   335\\\\\n",
       "\t3 & Afghanistan & 2013 & Blé et Farin        & 39224\\\\\n",
       "\t4 & Afghanistan & 2014 & Blé et Farin        & 15160\\\\\n",
       "\t5 & Afghanistan & 2013 & Céréales            & 40504\\\\\n",
       "\t6 & Afghanistan & 2014 & Céréales            & 15989\\\\\n",
       "\\end{tabular}\n"
      ],
      "text/markdown": [
       "\n",
       "A data.frame: 6 × 4\n",
       "\n",
       "| <!--/--> | Pays.bénéficiaire &lt;chr&gt; | Année &lt;int&gt; | Produit &lt;chr&gt; | Valeur &lt;int&gt; |\n",
       "|---|---|---|---|---|\n",
       "| 1 | Afghanistan | 2013 | Autres non-céréales |   682 |\n",
       "| 2 | Afghanistan | 2014 | Autres non-céréales |   335 |\n",
       "| 3 | Afghanistan | 2013 | Blé et Farin        | 39224 |\n",
       "| 4 | Afghanistan | 2014 | Blé et Farin        | 15160 |\n",
       "| 5 | Afghanistan | 2013 | Céréales            | 40504 |\n",
       "| 6 | Afghanistan | 2014 | Céréales            | 15989 |\n",
       "\n"
      ],
      "text/plain": [
       "  Pays.bénéficiaire Année Produit             Valeur\n",
       "1 Afghanistan       2013  Autres non-céréales   682 \n",
       "2 Afghanistan       2014  Autres non-céréales   335 \n",
       "3 Afghanistan       2013  Blé et Farin        39224 \n",
       "4 Afghanistan       2014  Blé et Farin        15160 \n",
       "5 Afghanistan       2013  Céréales            40504 \n",
       "6 Afghanistan       2014  Céréales            15989 "
      ]
     },
     "metadata": {},
     "output_type": "display_data"
    }
   ],
   "source": [
    "head(aide)"
   ]
  },
  {
   "cell_type": "code",
   "execution_count": 4,
   "id": "2aa57355",
   "metadata": {
    "scrolled": false
   },
   "outputs": [
    {
     "data": {
      "text/plain": [
       " Pays.bénéficiaire      Année        Produit              Valeur      \n",
       " Length:1475        Min.   :2013   Length:1475        Min.   :     0  \n",
       " Class :character   1st Qu.:2013   Class :character   1st Qu.:   288  \n",
       " Mode  :character   Median :2014   Mode  :character   Median :  1178  \n",
       "                    Mean   :2014                      Mean   :  7482  \n",
       "                    3rd Qu.:2015                      3rd Qu.:  4334  \n",
       "                    Max.   :2016                      Max.   :265013  "
      ]
     },
     "metadata": {},
     "output_type": "display_data"
    }
   ],
   "source": [
    "summary(aide)"
   ]
  },
  {
   "cell_type": "code",
   "execution_count": 5,
   "id": "8a047aa1",
   "metadata": {
    "scrolled": false
   },
   "outputs": [
    {
     "data": {
      "text/html": [
       "<style>\n",
       ".list-inline {list-style: none; margin:0; padding: 0}\n",
       ".list-inline>li {display: inline-block}\n",
       ".list-inline>li:not(:last-child)::after {content: \"\\00b7\"; padding: 0 .5ex}\n",
       "</style>\n",
       "<ol class=list-inline><li>'Autres non-céréales'</li><li>'Blé et Farin'</li><li>'Céréales'</li><li>'Fruits secs, total'</li><li>'Huiles végétales'</li><li>'Légumineuses Sèches,Tot.'</li><li>'Non-céréales'</li><li>'Riz, total'</li><li>'Sucre, total'</li><li>'Céréales Secondaires'</li><li>'Lait, total'</li><li>'Mélanges et préparations'</li><li>'Poiss&amp;produi'</li><li>'BulgurFarEnt'</li><li>'Viande Total'</li><li>'Graisses Com'</li></ol>\n"
      ],
      "text/latex": [
       "\\begin{enumerate*}\n",
       "\\item 'Autres non-céréales'\n",
       "\\item 'Blé et Farin'\n",
       "\\item 'Céréales'\n",
       "\\item 'Fruits secs, total'\n",
       "\\item 'Huiles végétales'\n",
       "\\item 'Légumineuses Sèches,Tot.'\n",
       "\\item 'Non-céréales'\n",
       "\\item 'Riz, total'\n",
       "\\item 'Sucre, total'\n",
       "\\item 'Céréales Secondaires'\n",
       "\\item 'Lait, total'\n",
       "\\item 'Mélanges et préparations'\n",
       "\\item 'Poiss\\&produi'\n",
       "\\item 'BulgurFarEnt'\n",
       "\\item 'Viande Total'\n",
       "\\item 'Graisses Com'\n",
       "\\end{enumerate*}\n"
      ],
      "text/markdown": [
       "1. 'Autres non-céréales'\n",
       "2. 'Blé et Farin'\n",
       "3. 'Céréales'\n",
       "4. 'Fruits secs, total'\n",
       "5. 'Huiles végétales'\n",
       "6. 'Légumineuses Sèches,Tot.'\n",
       "7. 'Non-céréales'\n",
       "8. 'Riz, total'\n",
       "9. 'Sucre, total'\n",
       "10. 'Céréales Secondaires'\n",
       "11. 'Lait, total'\n",
       "12. 'Mélanges et préparations'\n",
       "13. 'Poiss&amp;produi'\n",
       "14. 'BulgurFarEnt'\n",
       "15. 'Viande Total'\n",
       "16. 'Graisses Com'\n",
       "\n",
       "\n"
      ],
      "text/plain": [
       " [1] \"Autres non-céréales\"      \"Blé et Farin\"             \"Céréales\"                 \"Fruits secs, total\"      \n",
       " [5] \"Huiles végétales\"         \"Légumineuses Sèches,Tot.\" \"Non-céréales\"             \"Riz, total\"              \n",
       " [9] \"Sucre, total\"             \"Céréales Secondaires\"     \"Lait, total\"              \"Mélanges et préparations\"\n",
       "[13] \"Poiss&produi\"             \"BulgurFarEnt\"             \"Viande Total\"             \"Graisses Com\"            "
      ]
     },
     "metadata": {},
     "output_type": "display_data"
    }
   ],
   "source": [
    "unique(aide$Produit)"
   ]
  },
  {
   "cell_type": "code",
   "execution_count": 6,
   "id": "54220fca",
   "metadata": {},
   "outputs": [],
   "source": [
    "aide = rename(aide, c(\"pays\" = \"Pays.bénéficiaire\",\n",
    "                       \"annee\" = \"Année\",\n",
    "                       \"produit\" = \"Produit\",\n",
    "                       \"quantite\" = \"Valeur\")\n",
    "             )\n",
    "\n",
    "aide[aide$pays==\"Swaziland\",\"pays\"] = \"Eswatini\" #nom dans le fichier pop"
   ]
  },
  {
   "cell_type": "markdown",
   "id": "6b1337e0",
   "metadata": {},
   "source": [
    "Il n'y avait aucun problème sur ce dataframe, nous changeons uniquement le nom des colonnes et le nom de certains pays afin de le faire correspondre à celui dans le fichier population. \n",
    "\n",
    "Remarque: La colonne \"quantite\" est en tonnes. \n",
    "\n",
    "### 2.2 Disponibilité alimentaire"
   ]
  },
  {
   "cell_type": "code",
   "execution_count": 7,
   "id": "0551a7ef",
   "metadata": {
    "scrolled": false
   },
   "outputs": [
    {
     "data": {
      "text/html": [
       "<table class=\"dataframe\">\n",
       "<caption>A data.frame: 6 × 18</caption>\n",
       "<thead>\n",
       "\t<tr><th></th><th scope=col>Zone</th><th scope=col>Produit</th><th scope=col>Origine</th><th scope=col>Aliments.pour.animaux</th><th scope=col>Autres.Utilisations</th><th scope=col>Disponibilité.alimentaire..Kcal.personne.jour.</th><th scope=col>Disponibilité.alimentaire.en.quantité..kg.personne.an.</th><th scope=col>Disponibilité.de.matière.grasse.en.quantité..g.personne.jour.</th><th scope=col>Disponibilité.de.protéines.en.quantité..g.personne.jour.</th><th scope=col>Disponibilité.intérieure</th><th scope=col>Exportations...Quantité</th><th scope=col>Importations...Quantité</th><th scope=col>Nourriture</th><th scope=col>Pertes</th><th scope=col>Production</th><th scope=col>Semences</th><th scope=col>Traitement</th><th scope=col>Variation.de.stock</th></tr>\n",
       "\t<tr><th></th><th scope=col>&lt;chr&gt;</th><th scope=col>&lt;chr&gt;</th><th scope=col>&lt;chr&gt;</th><th scope=col>&lt;dbl&gt;</th><th scope=col>&lt;dbl&gt;</th><th scope=col>&lt;dbl&gt;</th><th scope=col>&lt;dbl&gt;</th><th scope=col>&lt;dbl&gt;</th><th scope=col>&lt;dbl&gt;</th><th scope=col>&lt;dbl&gt;</th><th scope=col>&lt;dbl&gt;</th><th scope=col>&lt;dbl&gt;</th><th scope=col>&lt;dbl&gt;</th><th scope=col>&lt;dbl&gt;</th><th scope=col>&lt;dbl&gt;</th><th scope=col>&lt;dbl&gt;</th><th scope=col>&lt;dbl&gt;</th><th scope=col>&lt;dbl&gt;</th></tr>\n",
       "</thead>\n",
       "<tbody>\n",
       "\t<tr><th scope=row>1</th><td>Afghanistan</td><td>Abats Comestible     </td><td>animale </td><td>NA</td><td>NA</td><td> 5</td><td>1.72</td><td>0.20</td><td>0.77</td><td>53</td><td>NA</td><td>NA</td><td>53</td><td>NA</td><td>53</td><td>NA</td><td>NA</td><td>NA</td></tr>\n",
       "\t<tr><th scope=row>2</th><td>Afghanistan</td><td>Agrumes, Autres      </td><td>vegetale</td><td>NA</td><td>NA</td><td> 1</td><td>1.29</td><td>0.01</td><td>0.02</td><td>41</td><td> 2</td><td>40</td><td>39</td><td> 2</td><td> 3</td><td>NA</td><td>NA</td><td>NA</td></tr>\n",
       "\t<tr><th scope=row>3</th><td>Afghanistan</td><td>Aliments pour enfants</td><td>vegetale</td><td>NA</td><td>NA</td><td> 1</td><td>0.06</td><td>0.01</td><td>0.03</td><td> 2</td><td>NA</td><td> 2</td><td> 2</td><td>NA</td><td>NA</td><td>NA</td><td>NA</td><td>NA</td></tr>\n",
       "\t<tr><th scope=row>4</th><td>Afghanistan</td><td>Ananas               </td><td>vegetale</td><td>NA</td><td>NA</td><td> 0</td><td>0.00</td><td>  NA</td><td>  NA</td><td> 0</td><td>NA</td><td> 0</td><td> 0</td><td>NA</td><td>NA</td><td>NA</td><td>NA</td><td>NA</td></tr>\n",
       "\t<tr><th scope=row>5</th><td>Afghanistan</td><td>Bananes              </td><td>vegetale</td><td>NA</td><td>NA</td><td> 4</td><td>2.70</td><td>0.02</td><td>0.05</td><td>82</td><td>NA</td><td>82</td><td>82</td><td>NA</td><td>NA</td><td>NA</td><td>NA</td><td>NA</td></tr>\n",
       "\t<tr><th scope=row>6</th><td>Afghanistan</td><td>Beurre, Ghee         </td><td>animale </td><td>NA</td><td>NA</td><td>23</td><td>1.17</td><td>2.61</td><td>0.03</td><td>36</td><td>NA</td><td> 0</td><td>36</td><td>NA</td><td>36</td><td>NA</td><td>NA</td><td>NA</td></tr>\n",
       "</tbody>\n",
       "</table>\n"
      ],
      "text/latex": [
       "A data.frame: 6 × 18\n",
       "\\begin{tabular}{r|llllllllllllllllll}\n",
       "  & Zone & Produit & Origine & Aliments.pour.animaux & Autres.Utilisations & Disponibilité.alimentaire..Kcal.personne.jour. & Disponibilité.alimentaire.en.quantité..kg.personne.an. & Disponibilité.de.matière.grasse.en.quantité..g.personne.jour. & Disponibilité.de.protéines.en.quantité..g.personne.jour. & Disponibilité.intérieure & Exportations...Quantité & Importations...Quantité & Nourriture & Pertes & Production & Semences & Traitement & Variation.de.stock\\\\\n",
       "  & <chr> & <chr> & <chr> & <dbl> & <dbl> & <dbl> & <dbl> & <dbl> & <dbl> & <dbl> & <dbl> & <dbl> & <dbl> & <dbl> & <dbl> & <dbl> & <dbl> & <dbl>\\\\\n",
       "\\hline\n",
       "\t1 & Afghanistan & Abats Comestible      & animale  & NA & NA &  5 & 1.72 & 0.20 & 0.77 & 53 & NA & NA & 53 & NA & 53 & NA & NA & NA\\\\\n",
       "\t2 & Afghanistan & Agrumes, Autres       & vegetale & NA & NA &  1 & 1.29 & 0.01 & 0.02 & 41 &  2 & 40 & 39 &  2 &  3 & NA & NA & NA\\\\\n",
       "\t3 & Afghanistan & Aliments pour enfants & vegetale & NA & NA &  1 & 0.06 & 0.01 & 0.03 &  2 & NA &  2 &  2 & NA & NA & NA & NA & NA\\\\\n",
       "\t4 & Afghanistan & Ananas                & vegetale & NA & NA &  0 & 0.00 &   NA &   NA &  0 & NA &  0 &  0 & NA & NA & NA & NA & NA\\\\\n",
       "\t5 & Afghanistan & Bananes               & vegetale & NA & NA &  4 & 2.70 & 0.02 & 0.05 & 82 & NA & 82 & 82 & NA & NA & NA & NA & NA\\\\\n",
       "\t6 & Afghanistan & Beurre, Ghee          & animale  & NA & NA & 23 & 1.17 & 2.61 & 0.03 & 36 & NA &  0 & 36 & NA & 36 & NA & NA & NA\\\\\n",
       "\\end{tabular}\n"
      ],
      "text/markdown": [
       "\n",
       "A data.frame: 6 × 18\n",
       "\n",
       "| <!--/--> | Zone &lt;chr&gt; | Produit &lt;chr&gt; | Origine &lt;chr&gt; | Aliments.pour.animaux &lt;dbl&gt; | Autres.Utilisations &lt;dbl&gt; | Disponibilité.alimentaire..Kcal.personne.jour. &lt;dbl&gt; | Disponibilité.alimentaire.en.quantité..kg.personne.an. &lt;dbl&gt; | Disponibilité.de.matière.grasse.en.quantité..g.personne.jour. &lt;dbl&gt; | Disponibilité.de.protéines.en.quantité..g.personne.jour. &lt;dbl&gt; | Disponibilité.intérieure &lt;dbl&gt; | Exportations...Quantité &lt;dbl&gt; | Importations...Quantité &lt;dbl&gt; | Nourriture &lt;dbl&gt; | Pertes &lt;dbl&gt; | Production &lt;dbl&gt; | Semences &lt;dbl&gt; | Traitement &lt;dbl&gt; | Variation.de.stock &lt;dbl&gt; |\n",
       "|---|---|---|---|---|---|---|---|---|---|---|---|---|---|---|---|---|---|---|\n",
       "| 1 | Afghanistan | Abats Comestible      | animale  | NA | NA |  5 | 1.72 | 0.20 | 0.77 | 53 | NA | NA | 53 | NA | 53 | NA | NA | NA |\n",
       "| 2 | Afghanistan | Agrumes, Autres       | vegetale | NA | NA |  1 | 1.29 | 0.01 | 0.02 | 41 |  2 | 40 | 39 |  2 |  3 | NA | NA | NA |\n",
       "| 3 | Afghanistan | Aliments pour enfants | vegetale | NA | NA |  1 | 0.06 | 0.01 | 0.03 |  2 | NA |  2 |  2 | NA | NA | NA | NA | NA |\n",
       "| 4 | Afghanistan | Ananas                | vegetale | NA | NA |  0 | 0.00 |   NA |   NA |  0 | NA |  0 |  0 | NA | NA | NA | NA | NA |\n",
       "| 5 | Afghanistan | Bananes               | vegetale | NA | NA |  4 | 2.70 | 0.02 | 0.05 | 82 | NA | 82 | 82 | NA | NA | NA | NA | NA |\n",
       "| 6 | Afghanistan | Beurre, Ghee          | animale  | NA | NA | 23 | 1.17 | 2.61 | 0.03 | 36 | NA |  0 | 36 | NA | 36 | NA | NA | NA |\n",
       "\n"
      ],
      "text/plain": [
       "  Zone        Produit               Origine  Aliments.pour.animaux Autres.Utilisations\n",
       "1 Afghanistan Abats Comestible      animale  NA                    NA                 \n",
       "2 Afghanistan Agrumes, Autres       vegetale NA                    NA                 \n",
       "3 Afghanistan Aliments pour enfants vegetale NA                    NA                 \n",
       "4 Afghanistan Ananas                vegetale NA                    NA                 \n",
       "5 Afghanistan Bananes               vegetale NA                    NA                 \n",
       "6 Afghanistan Beurre, Ghee          animale  NA                    NA                 \n",
       "  Disponibilité.alimentaire..Kcal.personne.jour. Disponibilité.alimentaire.en.quantité..kg.personne.an.\n",
       "1  5                                             1.72                                                  \n",
       "2  1                                             1.29                                                  \n",
       "3  1                                             0.06                                                  \n",
       "4  0                                             0.00                                                  \n",
       "5  4                                             2.70                                                  \n",
       "6 23                                             1.17                                                  \n",
       "  Disponibilité.de.matière.grasse.en.quantité..g.personne.jour.\n",
       "1 0.20                                                         \n",
       "2 0.01                                                         \n",
       "3 0.01                                                         \n",
       "4   NA                                                         \n",
       "5 0.02                                                         \n",
       "6 2.61                                                         \n",
       "  Disponibilité.de.protéines.en.quantité..g.personne.jour. Disponibilité.intérieure Exportations...Quantité\n",
       "1 0.77                                                     53                       NA                     \n",
       "2 0.02                                                     41                        2                     \n",
       "3 0.03                                                      2                       NA                     \n",
       "4   NA                                                      0                       NA                     \n",
       "5 0.05                                                     82                       NA                     \n",
       "6 0.03                                                     36                       NA                     \n",
       "  Importations...Quantité Nourriture Pertes Production Semences Traitement Variation.de.stock\n",
       "1 NA                      53         NA     53         NA       NA         NA                \n",
       "2 40                      39          2      3         NA       NA         NA                \n",
       "3  2                       2         NA     NA         NA       NA         NA                \n",
       "4  0                       0         NA     NA         NA       NA         NA                \n",
       "5 82                      82         NA     NA         NA       NA         NA                \n",
       "6  0                      36         NA     36         NA       NA         NA                "
      ]
     },
     "metadata": {},
     "output_type": "display_data"
    }
   ],
   "source": [
    "head(dispo)"
   ]
  },
  {
   "cell_type": "code",
   "execution_count": 8,
   "id": "8c58a995",
   "metadata": {},
   "outputs": [],
   "source": [
    "colnames(dispo)[names(dispo)==\"Zone\"] <- 'pays'\n",
    "\n",
    "dispo[dispo$pays==\"Royaume-Uni\", \"pays\"] = \"Royaume-Uni de Grande-Bretagne et d'Irlande du Nord\" #nom dans le fichier pop\n",
    "dispo[dispo$pays==\"Tchéquie (la)\", \"pays\"] = \"Tchéquie\""
   ]
  },
  {
   "cell_type": "markdown",
   "id": "cd259e53",
   "metadata": {},
   "source": [
    "Nous changeons uniquement le nom de la colonne \"Zone\" pour pays et le nom de certains pays afin de le faire correspondre à celui dans le fichier population.\n",
    "\n",
    "Remarque: Les colonnes numériques sont en milliers de tonnes\n",
    "\n",
    "### 2.3 Population"
   ]
  },
  {
   "cell_type": "code",
   "execution_count": 9,
   "id": "2e770397",
   "metadata": {
    "scrolled": false
   },
   "outputs": [
    {
     "data": {
      "text/html": [
       "<table class=\"dataframe\">\n",
       "<caption>A data.frame: 6 × 3</caption>\n",
       "<thead>\n",
       "\t<tr><th></th><th scope=col>Zone</th><th scope=col>Année</th><th scope=col>Valeur</th></tr>\n",
       "\t<tr><th></th><th scope=col>&lt;chr&gt;</th><th scope=col>&lt;int&gt;</th><th scope=col>&lt;dbl&gt;</th></tr>\n",
       "</thead>\n",
       "<tbody>\n",
       "\t<tr><th scope=row>1</th><td>Afghanistan</td><td>2013</td><td>32270</td></tr>\n",
       "\t<tr><th scope=row>2</th><td>Afghanistan</td><td>2014</td><td>33371</td></tr>\n",
       "\t<tr><th scope=row>3</th><td>Afghanistan</td><td>2015</td><td>34414</td></tr>\n",
       "\t<tr><th scope=row>4</th><td>Afghanistan</td><td>2016</td><td>35383</td></tr>\n",
       "\t<tr><th scope=row>5</th><td>Afghanistan</td><td>2017</td><td>36296</td></tr>\n",
       "\t<tr><th scope=row>6</th><td>Afghanistan</td><td>2018</td><td>37172</td></tr>\n",
       "</tbody>\n",
       "</table>\n"
      ],
      "text/latex": [
       "A data.frame: 6 × 3\n",
       "\\begin{tabular}{r|lll}\n",
       "  & Zone & Année & Valeur\\\\\n",
       "  & <chr> & <int> & <dbl>\\\\\n",
       "\\hline\n",
       "\t1 & Afghanistan & 2013 & 32270\\\\\n",
       "\t2 & Afghanistan & 2014 & 33371\\\\\n",
       "\t3 & Afghanistan & 2015 & 34414\\\\\n",
       "\t4 & Afghanistan & 2016 & 35383\\\\\n",
       "\t5 & Afghanistan & 2017 & 36296\\\\\n",
       "\t6 & Afghanistan & 2018 & 37172\\\\\n",
       "\\end{tabular}\n"
      ],
      "text/markdown": [
       "\n",
       "A data.frame: 6 × 3\n",
       "\n",
       "| <!--/--> | Zone &lt;chr&gt; | Année &lt;int&gt; | Valeur &lt;dbl&gt; |\n",
       "|---|---|---|---|\n",
       "| 1 | Afghanistan | 2013 | 32270 |\n",
       "| 2 | Afghanistan | 2014 | 33371 |\n",
       "| 3 | Afghanistan | 2015 | 34414 |\n",
       "| 4 | Afghanistan | 2016 | 35383 |\n",
       "| 5 | Afghanistan | 2017 | 36296 |\n",
       "| 6 | Afghanistan | 2018 | 37172 |\n",
       "\n"
      ],
      "text/plain": [
       "  Zone        Année Valeur\n",
       "1 Afghanistan 2013  32270 \n",
       "2 Afghanistan 2014  33371 \n",
       "3 Afghanistan 2015  34414 \n",
       "4 Afghanistan 2016  35383 \n",
       "5 Afghanistan 2017  36296 \n",
       "6 Afghanistan 2018  37172 "
      ]
     },
     "metadata": {},
     "output_type": "display_data"
    }
   ],
   "source": [
    "head(pop)"
   ]
  },
  {
   "cell_type": "code",
   "execution_count": 10,
   "id": "bd07bb68",
   "metadata": {
    "scrolled": false
   },
   "outputs": [
    {
     "data": {
      "text/plain": [
       "     Zone               Année          Valeur       \n",
       " Length:1416        Min.   :2013   Min.   :      1  \n",
       " Class :character   1st Qu.:2014   1st Qu.:    378  \n",
       " Mode  :character   Median :2016   Median :   5126  \n",
       "                    Mean   :2016   Mean   :  31448  \n",
       "                    3rd Qu.:2017   3rd Qu.:  19307  \n",
       "                    Max.   :2018   Max.   :1427648  "
      ]
     },
     "metadata": {},
     "output_type": "display_data"
    }
   ],
   "source": [
    "summary(pop)"
   ]
  },
  {
   "cell_type": "code",
   "execution_count": 11,
   "id": "26eb3784",
   "metadata": {
    "scrolled": false
   },
   "outputs": [
    {
     "data": {
      "text/html": [
       "FALSE"
      ],
      "text/latex": [
       "FALSE"
      ],
      "text/markdown": [
       "FALSE"
      ],
      "text/plain": [
       "[1] FALSE"
      ]
     },
     "metadata": {},
     "output_type": "display_data"
    }
   ],
   "source": [
    "unique(is.na(pop$Valeur))"
   ]
  },
  {
   "cell_type": "code",
   "execution_count": 12,
   "id": "5bbca51c",
   "metadata": {
    "scrolled": false
   },
   "outputs": [],
   "source": [
    "pop <- rename(pop, c(\"pays\" = \"Zone\",\n",
    "                     \"annee\" = \"Année\",\n",
    "                     \"pop_total\" = \"Valeur\")\n",
    "              )"
   ]
  },
  {
   "cell_type": "code",
   "execution_count": 13,
   "id": "ce32dfd3",
   "metadata": {
    "scrolled": false
   },
   "outputs": [],
   "source": [
    "pop['pop_total'] <- pop['pop_total']/1000"
   ]
  },
  {
   "cell_type": "markdown",
   "id": "439248a6",
   "metadata": {},
   "source": [
    "On passe la colonne \"pop_total\" en millions d'habitants et non en milliers, cela nous servira par la suite. On renomme également les colonnes.\n",
    "\n",
    "### 2.4 Insécurité alimentaire"
   ]
  },
  {
   "cell_type": "code",
   "execution_count": 14,
   "id": "9e748381",
   "metadata": {
    "scrolled": true
   },
   "outputs": [
    {
     "data": {
      "text/html": [
       "<table class=\"dataframe\">\n",
       "<caption>A data.frame: 6 × 3</caption>\n",
       "<thead>\n",
       "\t<tr><th></th><th scope=col>Zone</th><th scope=col>Année</th><th scope=col>Valeur</th></tr>\n",
       "\t<tr><th></th><th scope=col>&lt;chr&gt;</th><th scope=col>&lt;chr&gt;</th><th scope=col>&lt;chr&gt;</th></tr>\n",
       "</thead>\n",
       "<tbody>\n",
       "\t<tr><th scope=row>1</th><td>Afghanistan</td><td>2012-2014</td><td>8.6 </td></tr>\n",
       "\t<tr><th scope=row>2</th><td>Afghanistan</td><td>2013-2015</td><td>8.8 </td></tr>\n",
       "\t<tr><th scope=row>3</th><td>Afghanistan</td><td>2014-2016</td><td>8.9 </td></tr>\n",
       "\t<tr><th scope=row>4</th><td>Afghanistan</td><td>2015-2017</td><td>9.7 </td></tr>\n",
       "\t<tr><th scope=row>5</th><td>Afghanistan</td><td>2016-2018</td><td>10.5</td></tr>\n",
       "\t<tr><th scope=row>6</th><td>Afghanistan</td><td>2017-2019</td><td>11.1</td></tr>\n",
       "</tbody>\n",
       "</table>\n"
      ],
      "text/latex": [
       "A data.frame: 6 × 3\n",
       "\\begin{tabular}{r|lll}\n",
       "  & Zone & Année & Valeur\\\\\n",
       "  & <chr> & <chr> & <chr>\\\\\n",
       "\\hline\n",
       "\t1 & Afghanistan & 2012-2014 & 8.6 \\\\\n",
       "\t2 & Afghanistan & 2013-2015 & 8.8 \\\\\n",
       "\t3 & Afghanistan & 2014-2016 & 8.9 \\\\\n",
       "\t4 & Afghanistan & 2015-2017 & 9.7 \\\\\n",
       "\t5 & Afghanistan & 2016-2018 & 10.5\\\\\n",
       "\t6 & Afghanistan & 2017-2019 & 11.1\\\\\n",
       "\\end{tabular}\n"
      ],
      "text/markdown": [
       "\n",
       "A data.frame: 6 × 3\n",
       "\n",
       "| <!--/--> | Zone &lt;chr&gt; | Année &lt;chr&gt; | Valeur &lt;chr&gt; |\n",
       "|---|---|---|---|\n",
       "| 1 | Afghanistan | 2012-2014 | 8.6  |\n",
       "| 2 | Afghanistan | 2013-2015 | 8.8  |\n",
       "| 3 | Afghanistan | 2014-2016 | 8.9  |\n",
       "| 4 | Afghanistan | 2015-2017 | 9.7  |\n",
       "| 5 | Afghanistan | 2016-2018 | 10.5 |\n",
       "| 6 | Afghanistan | 2017-2019 | 11.1 |\n",
       "\n"
      ],
      "text/plain": [
       "  Zone        Année     Valeur\n",
       "1 Afghanistan 2012-2014 8.6   \n",
       "2 Afghanistan 2013-2015 8.8   \n",
       "3 Afghanistan 2014-2016 8.9   \n",
       "4 Afghanistan 2015-2017 9.7   \n",
       "5 Afghanistan 2016-2018 10.5  \n",
       "6 Afghanistan 2017-2019 11.1  "
      ]
     },
     "metadata": {},
     "output_type": "display_data"
    }
   ],
   "source": [
    "head(sous_nut)"
   ]
  },
  {
   "cell_type": "markdown",
   "id": "a9b08657",
   "metadata": {},
   "source": [
    "La valeur est au format \"character\" or celle-ci est numérique, regardons cela plus en détails."
   ]
  },
  {
   "cell_type": "code",
   "execution_count": 15,
   "id": "e87e2753",
   "metadata": {
    "scrolled": false
   },
   "outputs": [
    {
     "data": {
      "text/html": [
       "<style>\n",
       ".list-inline {list-style: none; margin:0; padding: 0}\n",
       ".list-inline>li {display: inline-block}\n",
       ".list-inline>li:not(:last-child)::after {content: \"\\00b7\"; padding: 0 .5ex}\n",
       "</style>\n",
       "<ol class=list-inline><li>'8.6'</li><li>'8.8'</li><li>'8.9'</li><li>'9.7'</li><li>'10.5'</li><li>'11.1'</li><li>'2.2'</li><li>'2.5'</li><li>'2.8'</li><li>'3'</li><li>'3.1'</li><li>'3.3'</li><li>'0.1'</li><li>'1.3'</li><li>'1.2'</li><li>''</li><li>'7.6'</li><li>'6.2'</li><li>'5.3'</li><li>'5.6'</li><li>'5.8'</li><li>'5.7'</li><li>'1.5'</li><li>'1.6'</li><li>'1.1'</li><li>'1.7'</li><li>'&lt;0.1'</li><li>'21.7'</li><li>'22.4'</li><li>'23.3'</li><li>'22.3'</li><li>'21.5'</li><li>'20.9'</li><li>'0.8'</li><li>'2'</li><li>'1.9'</li><li>'1.8'</li><li>'0.4'</li><li>'0.5'</li><li>'0.3'</li><li>'0.2'</li><li>'3.2'</li><li>'3.4'</li><li>'3.6'</li><li>'3.8'</li><li>'2.1'</li><li>'2.3'</li><li>'2.4'</li><li>'0.6'</li><li>'0.7'</li><li>'0.9'</li><li>'3.9'</li><li>'2.7'</li><li>'1.4'</li><li>'4.8'</li><li>'4.6'</li><li>'4.9'</li><li>'5'</li><li>'4.4'</li><li>'4.3'</li><li>'4.2'</li><li>'4.5'</li><li>'26.2'</li><li>'24.3'</li><li>'21.3'</li><li>'21.1'</li><li>'2.9'</li><li>'5.1'</li><li>'5.2'</li><li>'5.4'</li><li>'203.8'</li><li>'198.3'</li><li>'193.1'</li><li>'190.9'</li><li>'190.1'</li><li>'189.2'</li><li>'23.6'</li><li>'24'</li><li>'24.1'</li><li>'3.7'</li><li>'7.3'</li><li>'7.8'</li><li>'8.4'</li><li>'9'</li><li>'9.1'</li><li>'10.1'</li><li>'10'</li><li>'10.7'</li><li>'11.5'</li><li>'11.9'</li><li>'11.8'</li><li>'8.7'</li><li>'10.3'</li><li>'11'</li><li>'1'</li><li>'5.5'</li><li>'6.8'</li><li>'7.9'</li><li>'5.9'</li><li>'7'</li><li>'9.2'</li><li>'9.4'</li><li>'9.6'</li><li>'6.7'</li><li>'7.1'</li><li>'7.2'</li><li>'14.7'</li><li>'17.4'</li><li>'20.2'</li><li>'22.2'</li><li>'22.8'</li><li>'24.6'</li><li>'31.1'</li><li>'28.5'</li><li>'25.4'</li><li>'24.8'</li><li>'26.1'</li><li>'14.5'</li><li>'15.4'</li><li>'16.5'</li><li>'15.8'</li><li>'15.7'</li><li>'10.8'</li><li>'11.2'</li><li>'11.6'</li><li>'12'</li><li>'12.2'</li><li>'13.5'</li><li>'13.2'</li><li>'12.8'</li><li>'13'</li><li>'13.4'</li><li>'14.1'</li><li>'4.1'</li><li>'6.1'</li><li>'6'</li><li>'6.5'</li><li>'2.6'</li><li>'8'</li><li>'8.3'</li></ol>\n"
      ],
      "text/latex": [
       "\\begin{enumerate*}\n",
       "\\item '8.6'\n",
       "\\item '8.8'\n",
       "\\item '8.9'\n",
       "\\item '9.7'\n",
       "\\item '10.5'\n",
       "\\item '11.1'\n",
       "\\item '2.2'\n",
       "\\item '2.5'\n",
       "\\item '2.8'\n",
       "\\item '3'\n",
       "\\item '3.1'\n",
       "\\item '3.3'\n",
       "\\item '0.1'\n",
       "\\item '1.3'\n",
       "\\item '1.2'\n",
       "\\item ''\n",
       "\\item '7.6'\n",
       "\\item '6.2'\n",
       "\\item '5.3'\n",
       "\\item '5.6'\n",
       "\\item '5.8'\n",
       "\\item '5.7'\n",
       "\\item '1.5'\n",
       "\\item '1.6'\n",
       "\\item '1.1'\n",
       "\\item '1.7'\n",
       "\\item '<0.1'\n",
       "\\item '21.7'\n",
       "\\item '22.4'\n",
       "\\item '23.3'\n",
       "\\item '22.3'\n",
       "\\item '21.5'\n",
       "\\item '20.9'\n",
       "\\item '0.8'\n",
       "\\item '2'\n",
       "\\item '1.9'\n",
       "\\item '1.8'\n",
       "\\item '0.4'\n",
       "\\item '0.5'\n",
       "\\item '0.3'\n",
       "\\item '0.2'\n",
       "\\item '3.2'\n",
       "\\item '3.4'\n",
       "\\item '3.6'\n",
       "\\item '3.8'\n",
       "\\item '2.1'\n",
       "\\item '2.3'\n",
       "\\item '2.4'\n",
       "\\item '0.6'\n",
       "\\item '0.7'\n",
       "\\item '0.9'\n",
       "\\item '3.9'\n",
       "\\item '2.7'\n",
       "\\item '1.4'\n",
       "\\item '4.8'\n",
       "\\item '4.6'\n",
       "\\item '4.9'\n",
       "\\item '5'\n",
       "\\item '4.4'\n",
       "\\item '4.3'\n",
       "\\item '4.2'\n",
       "\\item '4.5'\n",
       "\\item '26.2'\n",
       "\\item '24.3'\n",
       "\\item '21.3'\n",
       "\\item '21.1'\n",
       "\\item '2.9'\n",
       "\\item '5.1'\n",
       "\\item '5.2'\n",
       "\\item '5.4'\n",
       "\\item '203.8'\n",
       "\\item '198.3'\n",
       "\\item '193.1'\n",
       "\\item '190.9'\n",
       "\\item '190.1'\n",
       "\\item '189.2'\n",
       "\\item '23.6'\n",
       "\\item '24'\n",
       "\\item '24.1'\n",
       "\\item '3.7'\n",
       "\\item '7.3'\n",
       "\\item '7.8'\n",
       "\\item '8.4'\n",
       "\\item '9'\n",
       "\\item '9.1'\n",
       "\\item '10.1'\n",
       "\\item '10'\n",
       "\\item '10.7'\n",
       "\\item '11.5'\n",
       "\\item '11.9'\n",
       "\\item '11.8'\n",
       "\\item '8.7'\n",
       "\\item '10.3'\n",
       "\\item '11'\n",
       "\\item '1'\n",
       "\\item '5.5'\n",
       "\\item '6.8'\n",
       "\\item '7.9'\n",
       "\\item '5.9'\n",
       "\\item '7'\n",
       "\\item '9.2'\n",
       "\\item '9.4'\n",
       "\\item '9.6'\n",
       "\\item '6.7'\n",
       "\\item '7.1'\n",
       "\\item '7.2'\n",
       "\\item '14.7'\n",
       "\\item '17.4'\n",
       "\\item '20.2'\n",
       "\\item '22.2'\n",
       "\\item '22.8'\n",
       "\\item '24.6'\n",
       "\\item '31.1'\n",
       "\\item '28.5'\n",
       "\\item '25.4'\n",
       "\\item '24.8'\n",
       "\\item '26.1'\n",
       "\\item '14.5'\n",
       "\\item '15.4'\n",
       "\\item '16.5'\n",
       "\\item '15.8'\n",
       "\\item '15.7'\n",
       "\\item '10.8'\n",
       "\\item '11.2'\n",
       "\\item '11.6'\n",
       "\\item '12'\n",
       "\\item '12.2'\n",
       "\\item '13.5'\n",
       "\\item '13.2'\n",
       "\\item '12.8'\n",
       "\\item '13'\n",
       "\\item '13.4'\n",
       "\\item '14.1'\n",
       "\\item '4.1'\n",
       "\\item '6.1'\n",
       "\\item '6'\n",
       "\\item '6.5'\n",
       "\\item '2.6'\n",
       "\\item '8'\n",
       "\\item '8.3'\n",
       "\\end{enumerate*}\n"
      ],
      "text/markdown": [
       "1. '8.6'\n",
       "2. '8.8'\n",
       "3. '8.9'\n",
       "4. '9.7'\n",
       "5. '10.5'\n",
       "6. '11.1'\n",
       "7. '2.2'\n",
       "8. '2.5'\n",
       "9. '2.8'\n",
       "10. '3'\n",
       "11. '3.1'\n",
       "12. '3.3'\n",
       "13. '0.1'\n",
       "14. '1.3'\n",
       "15. '1.2'\n",
       "16. ''\n",
       "17. '7.6'\n",
       "18. '6.2'\n",
       "19. '5.3'\n",
       "20. '5.6'\n",
       "21. '5.8'\n",
       "22. '5.7'\n",
       "23. '1.5'\n",
       "24. '1.6'\n",
       "25. '1.1'\n",
       "26. '1.7'\n",
       "27. '&lt;0.1'\n",
       "28. '21.7'\n",
       "29. '22.4'\n",
       "30. '23.3'\n",
       "31. '22.3'\n",
       "32. '21.5'\n",
       "33. '20.9'\n",
       "34. '0.8'\n",
       "35. '2'\n",
       "36. '1.9'\n",
       "37. '1.8'\n",
       "38. '0.4'\n",
       "39. '0.5'\n",
       "40. '0.3'\n",
       "41. '0.2'\n",
       "42. '3.2'\n",
       "43. '3.4'\n",
       "44. '3.6'\n",
       "45. '3.8'\n",
       "46. '2.1'\n",
       "47. '2.3'\n",
       "48. '2.4'\n",
       "49. '0.6'\n",
       "50. '0.7'\n",
       "51. '0.9'\n",
       "52. '3.9'\n",
       "53. '2.7'\n",
       "54. '1.4'\n",
       "55. '4.8'\n",
       "56. '4.6'\n",
       "57. '4.9'\n",
       "58. '5'\n",
       "59. '4.4'\n",
       "60. '4.3'\n",
       "61. '4.2'\n",
       "62. '4.5'\n",
       "63. '26.2'\n",
       "64. '24.3'\n",
       "65. '21.3'\n",
       "66. '21.1'\n",
       "67. '2.9'\n",
       "68. '5.1'\n",
       "69. '5.2'\n",
       "70. '5.4'\n",
       "71. '203.8'\n",
       "72. '198.3'\n",
       "73. '193.1'\n",
       "74. '190.9'\n",
       "75. '190.1'\n",
       "76. '189.2'\n",
       "77. '23.6'\n",
       "78. '24'\n",
       "79. '24.1'\n",
       "80. '3.7'\n",
       "81. '7.3'\n",
       "82. '7.8'\n",
       "83. '8.4'\n",
       "84. '9'\n",
       "85. '9.1'\n",
       "86. '10.1'\n",
       "87. '10'\n",
       "88. '10.7'\n",
       "89. '11.5'\n",
       "90. '11.9'\n",
       "91. '11.8'\n",
       "92. '8.7'\n",
       "93. '10.3'\n",
       "94. '11'\n",
       "95. '1'\n",
       "96. '5.5'\n",
       "97. '6.8'\n",
       "98. '7.9'\n",
       "99. '5.9'\n",
       "100. '7'\n",
       "101. '9.2'\n",
       "102. '9.4'\n",
       "103. '9.6'\n",
       "104. '6.7'\n",
       "105. '7.1'\n",
       "106. '7.2'\n",
       "107. '14.7'\n",
       "108. '17.4'\n",
       "109. '20.2'\n",
       "110. '22.2'\n",
       "111. '22.8'\n",
       "112. '24.6'\n",
       "113. '31.1'\n",
       "114. '28.5'\n",
       "115. '25.4'\n",
       "116. '24.8'\n",
       "117. '26.1'\n",
       "118. '14.5'\n",
       "119. '15.4'\n",
       "120. '16.5'\n",
       "121. '15.8'\n",
       "122. '15.7'\n",
       "123. '10.8'\n",
       "124. '11.2'\n",
       "125. '11.6'\n",
       "126. '12'\n",
       "127. '12.2'\n",
       "128. '13.5'\n",
       "129. '13.2'\n",
       "130. '12.8'\n",
       "131. '13'\n",
       "132. '13.4'\n",
       "133. '14.1'\n",
       "134. '4.1'\n",
       "135. '6.1'\n",
       "136. '6'\n",
       "137. '6.5'\n",
       "138. '2.6'\n",
       "139. '8'\n",
       "140. '8.3'\n",
       "\n",
       "\n"
      ],
      "text/plain": [
       "  [1] \"8.6\"   \"8.8\"   \"8.9\"   \"9.7\"   \"10.5\"  \"11.1\"  \"2.2\"   \"2.5\"   \"2.8\"   \"3\"     \"3.1\"   \"3.3\"   \"0.1\"   \"1.3\"  \n",
       " [15] \"1.2\"   \"\"      \"7.6\"   \"6.2\"   \"5.3\"   \"5.6\"   \"5.8\"   \"5.7\"   \"1.5\"   \"1.6\"   \"1.1\"   \"1.7\"   \"<0.1\"  \"21.7\" \n",
       " [29] \"22.4\"  \"23.3\"  \"22.3\"  \"21.5\"  \"20.9\"  \"0.8\"   \"2\"     \"1.9\"   \"1.8\"   \"0.4\"   \"0.5\"   \"0.3\"   \"0.2\"   \"3.2\"  \n",
       " [43] \"3.4\"   \"3.6\"   \"3.8\"   \"2.1\"   \"2.3\"   \"2.4\"   \"0.6\"   \"0.7\"   \"0.9\"   \"3.9\"   \"2.7\"   \"1.4\"   \"4.8\"   \"4.6\"  \n",
       " [57] \"4.9\"   \"5\"     \"4.4\"   \"4.3\"   \"4.2\"   \"4.5\"   \"26.2\"  \"24.3\"  \"21.3\"  \"21.1\"  \"2.9\"   \"5.1\"   \"5.2\"   \"5.4\"  \n",
       " [71] \"203.8\" \"198.3\" \"193.1\" \"190.9\" \"190.1\" \"189.2\" \"23.6\"  \"24\"    \"24.1\"  \"3.7\"   \"7.3\"   \"7.8\"   \"8.4\"   \"9\"    \n",
       " [85] \"9.1\"   \"10.1\"  \"10\"    \"10.7\"  \"11.5\"  \"11.9\"  \"11.8\"  \"8.7\"   \"10.3\"  \"11\"    \"1\"     \"5.5\"   \"6.8\"   \"7.9\"  \n",
       " [99] \"5.9\"   \"7\"     \"9.2\"   \"9.4\"   \"9.6\"   \"6.7\"   \"7.1\"   \"7.2\"   \"14.7\"  \"17.4\"  \"20.2\"  \"22.2\"  \"22.8\"  \"24.6\" \n",
       "[113] \"31.1\"  \"28.5\"  \"25.4\"  \"24.8\"  \"26.1\"  \"14.5\"  \"15.4\"  \"16.5\"  \"15.8\"  \"15.7\"  \"10.8\"  \"11.2\"  \"11.6\"  \"12\"   \n",
       "[127] \"12.2\"  \"13.5\"  \"13.2\"  \"12.8\"  \"13\"    \"13.4\"  \"14.1\"  \"4.1\"   \"6.1\"   \"6\"     \"6.5\"   \"2.6\"   \"8\"     \"8.3\"  "
      ]
     },
     "metadata": {},
     "output_type": "display_data"
    }
   ],
   "source": [
    "unique(sous_nut$Valeur)"
   ]
  },
  {
   "cell_type": "markdown",
   "id": "a0e36c2f",
   "metadata": {},
   "source": [
    "On remarque qu'il y a des cellules vides _(noté \")_ et des cellules avec \"<0.1\". Nous allons transformer ces valeurs en 0 mais regardons avant quels pays sont concernés.\n"
   ]
  },
  {
   "cell_type": "code",
   "execution_count": 16,
   "id": "8e982129",
   "metadata": {},
   "outputs": [
    {
     "data": {
      "text/html": [
       "<style>\n",
       ".list-inline {list-style: none; margin:0; padding: 0}\n",
       ".list-inline>li {display: inline-block}\n",
       ".list-inline>li:not(:last-child)::after {content: \"\\00b7\"; padding: 0 .5ex}\n",
       "</style>\n",
       "<ol class=list-inline><li>'Allemagne'</li><li>'Andorre'</li><li>'Antigua-et-Barbuda'</li><li>'Argentine'</li><li>'Arménie'</li><li>'Australie'</li><li>'Autriche'</li><li>'Azerbaïdjan'</li><li>'Bahamas'</li><li>'Bahreïn'</li><li>'Barbade'</li><li>'Bélarus'</li><li>'Belgique'</li><li>'Belize'</li><li>'Bermudes'</li><li>'Bhoutan'</li><li>'Bosnie-Herzégovine'</li><li>'Brésil'</li><li>'Brunéi Darussalam'</li><li>'Burundi'</li><li>'Cabo Verde'</li><li>'Canada'</li><li>'Chine - RAS de Hong-Kong'</li><li>'Chine - RAS de Macao'</li><li>'Chine, continentale'</li><li>'Chypre'</li><li>'Comores'</li><li>'Croatie'</li><li>'Cuba'</li><li>'Danemark'</li><li>'Djibouti'</li><li>'Dominique'</li><li>'Érythrée'</li><li>'Espagne'</li><li>'Estonie'</li><li>'États-Unis d\\'Amérique'</li><li>'Fédération de Russie'</li><li>'Fidji'</li><li>'Finlande'</li><li>'France'</li><li>'Grèce'</li><li>'Grenade'</li><li>'Groenland'</li><li>'Guinée'</li><li>'Guinée équatoriale'</li><li>'Guinée-Bissau'</li><li>'Guyana'</li><li>'Hongrie'</li><li>'Îles Cook'</li><li>'Îles Marshall'</li><li>'Îles Salomon'</li><li>'Irlande'</li><li>'Islande'</li><li>'Israël'</li><li>'Italie'</li><li>'Japon'</li><li>'Kazakhstan'</li><li>'Kiribati'</li><li>'Koweït'</li><li>'Lettonie'</li><li>'Libye'</li><li>'Lituanie'</li><li>'Luxembourg'</li><li>'Macédoine du Nord'</li><li>'Maldives'</li><li>'Malte'</li><li>'Maurice'</li><li>'Micronésie (États fédérés de)'</li><li>'Monténégro'</li><li>'Nauru'</li><li>'Niger'</li><li>'Nioué'</li><li>'Norvège'</li><li>'Nouvelle-Calédonie'</li><li>'Nouvelle-Zélande'</li><li>'Ouganda'</li><li>'Palaos'</li><li>'Palestine'</li><li>'Papouasie-Nouvelle-Guinée'</li><li>'Pays-Bas'</li><li>'Pologne'</li><li>'Polynésie française'</li><li>'Porto Rico'</li><li>'Portugal'</li><li>'Qatar'</li><li>'République arabe syrienne'</li><li>'République centrafricaine'</li><li>'République de Corée'</li><li>'République de Moldova'</li><li>'République démocratique du Congo'</li><li>'République démocratique populaire lao'</li><li>'Roumanie'</li><li>'Royaume-Uni de Grande-Bretagne et d\\'Irlande du Nord'</li><li>'Sainte-Lucie'</li><li>'Saint-Kitts-et-Nevis'</li><li>'Saint-Vincent-et-les Grenadines'</li><li>'Samoa'</li><li>'Samoa américaines'</li><li>'Sao Tomé-et-Principe'</li><li>'Seychelles'</li><li>'Singapour'</li><li>'Slovénie'</li><li>'Somalie'</li><li>'Soudan du Sud'</li><li>'Suède'</li><li>'Suisse'</li><li>'Suriname'</li><li>'Tadjikistan'</li><li>'Tchéquie'</li><li>'Tokélaou'</li><li>'Tonga'</li><li>'Trinité-et-Tobago'</li><li>'Tunisie'</li><li>'Turquie'</li><li>'Tuvalu'</li><li>'Ukraine'</li><li>'Uruguay'</li><li>'Vanuatu'</li><li>'Yémen'</li><li>'Zambie'</li><li>'Zimbabwe'</li></ol>\n"
      ],
      "text/latex": [
       "\\begin{enumerate*}\n",
       "\\item 'Allemagne'\n",
       "\\item 'Andorre'\n",
       "\\item 'Antigua-et-Barbuda'\n",
       "\\item 'Argentine'\n",
       "\\item 'Arménie'\n",
       "\\item 'Australie'\n",
       "\\item 'Autriche'\n",
       "\\item 'Azerbaïdjan'\n",
       "\\item 'Bahamas'\n",
       "\\item 'Bahreïn'\n",
       "\\item 'Barbade'\n",
       "\\item 'Bélarus'\n",
       "\\item 'Belgique'\n",
       "\\item 'Belize'\n",
       "\\item 'Bermudes'\n",
       "\\item 'Bhoutan'\n",
       "\\item 'Bosnie-Herzégovine'\n",
       "\\item 'Brésil'\n",
       "\\item 'Brunéi Darussalam'\n",
       "\\item 'Burundi'\n",
       "\\item 'Cabo Verde'\n",
       "\\item 'Canada'\n",
       "\\item 'Chine - RAS de Hong-Kong'\n",
       "\\item 'Chine - RAS de Macao'\n",
       "\\item 'Chine, continentale'\n",
       "\\item 'Chypre'\n",
       "\\item 'Comores'\n",
       "\\item 'Croatie'\n",
       "\\item 'Cuba'\n",
       "\\item 'Danemark'\n",
       "\\item 'Djibouti'\n",
       "\\item 'Dominique'\n",
       "\\item 'Érythrée'\n",
       "\\item 'Espagne'\n",
       "\\item 'Estonie'\n",
       "\\item 'États-Unis d\\textbackslash{}'Amérique'\n",
       "\\item 'Fédération de Russie'\n",
       "\\item 'Fidji'\n",
       "\\item 'Finlande'\n",
       "\\item 'France'\n",
       "\\item 'Grèce'\n",
       "\\item 'Grenade'\n",
       "\\item 'Groenland'\n",
       "\\item 'Guinée'\n",
       "\\item 'Guinée équatoriale'\n",
       "\\item 'Guinée-Bissau'\n",
       "\\item 'Guyana'\n",
       "\\item 'Hongrie'\n",
       "\\item 'Îles Cook'\n",
       "\\item 'Îles Marshall'\n",
       "\\item 'Îles Salomon'\n",
       "\\item 'Irlande'\n",
       "\\item 'Islande'\n",
       "\\item 'Israël'\n",
       "\\item 'Italie'\n",
       "\\item 'Japon'\n",
       "\\item 'Kazakhstan'\n",
       "\\item 'Kiribati'\n",
       "\\item 'Koweït'\n",
       "\\item 'Lettonie'\n",
       "\\item 'Libye'\n",
       "\\item 'Lituanie'\n",
       "\\item 'Luxembourg'\n",
       "\\item 'Macédoine du Nord'\n",
       "\\item 'Maldives'\n",
       "\\item 'Malte'\n",
       "\\item 'Maurice'\n",
       "\\item 'Micronésie (États fédérés de)'\n",
       "\\item 'Monténégro'\n",
       "\\item 'Nauru'\n",
       "\\item 'Niger'\n",
       "\\item 'Nioué'\n",
       "\\item 'Norvège'\n",
       "\\item 'Nouvelle-Calédonie'\n",
       "\\item 'Nouvelle-Zélande'\n",
       "\\item 'Ouganda'\n",
       "\\item 'Palaos'\n",
       "\\item 'Palestine'\n",
       "\\item 'Papouasie-Nouvelle-Guinée'\n",
       "\\item 'Pays-Bas'\n",
       "\\item 'Pologne'\n",
       "\\item 'Polynésie française'\n",
       "\\item 'Porto Rico'\n",
       "\\item 'Portugal'\n",
       "\\item 'Qatar'\n",
       "\\item 'République arabe syrienne'\n",
       "\\item 'République centrafricaine'\n",
       "\\item 'République de Corée'\n",
       "\\item 'République de Moldova'\n",
       "\\item 'République démocratique du Congo'\n",
       "\\item 'République démocratique populaire lao'\n",
       "\\item 'Roumanie'\n",
       "\\item 'Royaume-Uni de Grande-Bretagne et d\\textbackslash{}'Irlande du Nord'\n",
       "\\item 'Sainte-Lucie'\n",
       "\\item 'Saint-Kitts-et-Nevis'\n",
       "\\item 'Saint-Vincent-et-les Grenadines'\n",
       "\\item 'Samoa'\n",
       "\\item 'Samoa américaines'\n",
       "\\item 'Sao Tomé-et-Principe'\n",
       "\\item 'Seychelles'\n",
       "\\item 'Singapour'\n",
       "\\item 'Slovénie'\n",
       "\\item 'Somalie'\n",
       "\\item 'Soudan du Sud'\n",
       "\\item 'Suède'\n",
       "\\item 'Suisse'\n",
       "\\item 'Suriname'\n",
       "\\item 'Tadjikistan'\n",
       "\\item 'Tchéquie'\n",
       "\\item 'Tokélaou'\n",
       "\\item 'Tonga'\n",
       "\\item 'Trinité-et-Tobago'\n",
       "\\item 'Tunisie'\n",
       "\\item 'Turquie'\n",
       "\\item 'Tuvalu'\n",
       "\\item 'Ukraine'\n",
       "\\item 'Uruguay'\n",
       "\\item 'Vanuatu'\n",
       "\\item 'Yémen'\n",
       "\\item 'Zambie'\n",
       "\\item 'Zimbabwe'\n",
       "\\end{enumerate*}\n"
      ],
      "text/markdown": [
       "1. 'Allemagne'\n",
       "2. 'Andorre'\n",
       "3. 'Antigua-et-Barbuda'\n",
       "4. 'Argentine'\n",
       "5. 'Arménie'\n",
       "6. 'Australie'\n",
       "7. 'Autriche'\n",
       "8. 'Azerbaïdjan'\n",
       "9. 'Bahamas'\n",
       "10. 'Bahreïn'\n",
       "11. 'Barbade'\n",
       "12. 'Bélarus'\n",
       "13. 'Belgique'\n",
       "14. 'Belize'\n",
       "15. 'Bermudes'\n",
       "16. 'Bhoutan'\n",
       "17. 'Bosnie-Herzégovine'\n",
       "18. 'Brésil'\n",
       "19. 'Brunéi Darussalam'\n",
       "20. 'Burundi'\n",
       "21. 'Cabo Verde'\n",
       "22. 'Canada'\n",
       "23. 'Chine - RAS de Hong-Kong'\n",
       "24. 'Chine - RAS de Macao'\n",
       "25. 'Chine, continentale'\n",
       "26. 'Chypre'\n",
       "27. 'Comores'\n",
       "28. 'Croatie'\n",
       "29. 'Cuba'\n",
       "30. 'Danemark'\n",
       "31. 'Djibouti'\n",
       "32. 'Dominique'\n",
       "33. 'Érythrée'\n",
       "34. 'Espagne'\n",
       "35. 'Estonie'\n",
       "36. 'États-Unis d\\'Amérique'\n",
       "37. 'Fédération de Russie'\n",
       "38. 'Fidji'\n",
       "39. 'Finlande'\n",
       "40. 'France'\n",
       "41. 'Grèce'\n",
       "42. 'Grenade'\n",
       "43. 'Groenland'\n",
       "44. 'Guinée'\n",
       "45. 'Guinée équatoriale'\n",
       "46. 'Guinée-Bissau'\n",
       "47. 'Guyana'\n",
       "48. 'Hongrie'\n",
       "49. 'Îles Cook'\n",
       "50. 'Îles Marshall'\n",
       "51. 'Îles Salomon'\n",
       "52. 'Irlande'\n",
       "53. 'Islande'\n",
       "54. 'Israël'\n",
       "55. 'Italie'\n",
       "56. 'Japon'\n",
       "57. 'Kazakhstan'\n",
       "58. 'Kiribati'\n",
       "59. 'Koweït'\n",
       "60. 'Lettonie'\n",
       "61. 'Libye'\n",
       "62. 'Lituanie'\n",
       "63. 'Luxembourg'\n",
       "64. 'Macédoine du Nord'\n",
       "65. 'Maldives'\n",
       "66. 'Malte'\n",
       "67. 'Maurice'\n",
       "68. 'Micronésie (États fédérés de)'\n",
       "69. 'Monténégro'\n",
       "70. 'Nauru'\n",
       "71. 'Niger'\n",
       "72. 'Nioué'\n",
       "73. 'Norvège'\n",
       "74. 'Nouvelle-Calédonie'\n",
       "75. 'Nouvelle-Zélande'\n",
       "76. 'Ouganda'\n",
       "77. 'Palaos'\n",
       "78. 'Palestine'\n",
       "79. 'Papouasie-Nouvelle-Guinée'\n",
       "80. 'Pays-Bas'\n",
       "81. 'Pologne'\n",
       "82. 'Polynésie française'\n",
       "83. 'Porto Rico'\n",
       "84. 'Portugal'\n",
       "85. 'Qatar'\n",
       "86. 'République arabe syrienne'\n",
       "87. 'République centrafricaine'\n",
       "88. 'République de Corée'\n",
       "89. 'République de Moldova'\n",
       "90. 'République démocratique du Congo'\n",
       "91. 'République démocratique populaire lao'\n",
       "92. 'Roumanie'\n",
       "93. 'Royaume-Uni de Grande-Bretagne et d\\'Irlande du Nord'\n",
       "94. 'Sainte-Lucie'\n",
       "95. 'Saint-Kitts-et-Nevis'\n",
       "96. 'Saint-Vincent-et-les Grenadines'\n",
       "97. 'Samoa'\n",
       "98. 'Samoa américaines'\n",
       "99. 'Sao Tomé-et-Principe'\n",
       "100. 'Seychelles'\n",
       "101. 'Singapour'\n",
       "102. 'Slovénie'\n",
       "103. 'Somalie'\n",
       "104. 'Soudan du Sud'\n",
       "105. 'Suède'\n",
       "106. 'Suisse'\n",
       "107. 'Suriname'\n",
       "108. 'Tadjikistan'\n",
       "109. 'Tchéquie'\n",
       "110. 'Tokélaou'\n",
       "111. 'Tonga'\n",
       "112. 'Trinité-et-Tobago'\n",
       "113. 'Tunisie'\n",
       "114. 'Turquie'\n",
       "115. 'Tuvalu'\n",
       "116. 'Ukraine'\n",
       "117. 'Uruguay'\n",
       "118. 'Vanuatu'\n",
       "119. 'Yémen'\n",
       "120. 'Zambie'\n",
       "121. 'Zimbabwe'\n",
       "\n",
       "\n"
      ],
      "text/plain": [
       "  [1] \"Allemagne\"                                           \"Andorre\"                                            \n",
       "  [3] \"Antigua-et-Barbuda\"                                  \"Argentine\"                                          \n",
       "  [5] \"Arménie\"                                             \"Australie\"                                          \n",
       "  [7] \"Autriche\"                                            \"Azerbaïdjan\"                                        \n",
       "  [9] \"Bahamas\"                                             \"Bahreïn\"                                            \n",
       " [11] \"Barbade\"                                             \"Bélarus\"                                            \n",
       " [13] \"Belgique\"                                            \"Belize\"                                             \n",
       " [15] \"Bermudes\"                                            \"Bhoutan\"                                            \n",
       " [17] \"Bosnie-Herzégovine\"                                  \"Brésil\"                                             \n",
       " [19] \"Brunéi Darussalam\"                                   \"Burundi\"                                            \n",
       " [21] \"Cabo Verde\"                                          \"Canada\"                                             \n",
       " [23] \"Chine - RAS de Hong-Kong\"                            \"Chine - RAS de Macao\"                               \n",
       " [25] \"Chine, continentale\"                                 \"Chypre\"                                             \n",
       " [27] \"Comores\"                                             \"Croatie\"                                            \n",
       " [29] \"Cuba\"                                                \"Danemark\"                                           \n",
       " [31] \"Djibouti\"                                            \"Dominique\"                                          \n",
       " [33] \"Érythrée\"                                            \"Espagne\"                                            \n",
       " [35] \"Estonie\"                                             \"États-Unis d'Amérique\"                              \n",
       " [37] \"Fédération de Russie\"                                \"Fidji\"                                              \n",
       " [39] \"Finlande\"                                            \"France\"                                             \n",
       " [41] \"Grèce\"                                               \"Grenade\"                                            \n",
       " [43] \"Groenland\"                                           \"Guinée\"                                             \n",
       " [45] \"Guinée équatoriale\"                                  \"Guinée-Bissau\"                                      \n",
       " [47] \"Guyana\"                                              \"Hongrie\"                                            \n",
       " [49] \"Îles Cook\"                                           \"Îles Marshall\"                                      \n",
       " [51] \"Îles Salomon\"                                        \"Irlande\"                                            \n",
       " [53] \"Islande\"                                             \"Israël\"                                             \n",
       " [55] \"Italie\"                                              \"Japon\"                                              \n",
       " [57] \"Kazakhstan\"                                          \"Kiribati\"                                           \n",
       " [59] \"Koweït\"                                              \"Lettonie\"                                           \n",
       " [61] \"Libye\"                                               \"Lituanie\"                                           \n",
       " [63] \"Luxembourg\"                                          \"Macédoine du Nord\"                                  \n",
       " [65] \"Maldives\"                                            \"Malte\"                                              \n",
       " [67] \"Maurice\"                                             \"Micronésie (États fédérés de)\"                      \n",
       " [69] \"Monténégro\"                                          \"Nauru\"                                              \n",
       " [71] \"Niger\"                                               \"Nioué\"                                              \n",
       " [73] \"Norvège\"                                             \"Nouvelle-Calédonie\"                                 \n",
       " [75] \"Nouvelle-Zélande\"                                    \"Ouganda\"                                            \n",
       " [77] \"Palaos\"                                              \"Palestine\"                                          \n",
       " [79] \"Papouasie-Nouvelle-Guinée\"                           \"Pays-Bas\"                                           \n",
       " [81] \"Pologne\"                                             \"Polynésie française\"                                \n",
       " [83] \"Porto Rico\"                                          \"Portugal\"                                           \n",
       " [85] \"Qatar\"                                               \"République arabe syrienne\"                          \n",
       " [87] \"République centrafricaine\"                           \"République de Corée\"                                \n",
       " [89] \"République de Moldova\"                               \"République démocratique du Congo\"                   \n",
       " [91] \"République démocratique populaire lao\"               \"Roumanie\"                                           \n",
       " [93] \"Royaume-Uni de Grande-Bretagne et d'Irlande du Nord\" \"Sainte-Lucie\"                                       \n",
       " [95] \"Saint-Kitts-et-Nevis\"                                \"Saint-Vincent-et-les Grenadines\"                    \n",
       " [97] \"Samoa\"                                               \"Samoa américaines\"                                  \n",
       " [99] \"Sao Tomé-et-Principe\"                                \"Seychelles\"                                         \n",
       "[101] \"Singapour\"                                           \"Slovénie\"                                           \n",
       "[103] \"Somalie\"                                             \"Soudan du Sud\"                                      \n",
       "[105] \"Suède\"                                               \"Suisse\"                                             \n",
       "[107] \"Suriname\"                                            \"Tadjikistan\"                                        \n",
       "[109] \"Tchéquie\"                                            \"Tokélaou\"                                           \n",
       "[111] \"Tonga\"                                               \"Trinité-et-Tobago\"                                  \n",
       "[113] \"Tunisie\"                                             \"Turquie\"                                            \n",
       "[115] \"Tuvalu\"                                              \"Ukraine\"                                            \n",
       "[117] \"Uruguay\"                                             \"Vanuatu\"                                            \n",
       "[119] \"Yémen\"                                               \"Zambie\"                                             \n",
       "[121] \"Zimbabwe\"                                           "
      ]
     },
     "metadata": {},
     "output_type": "display_data"
    }
   ],
   "source": [
    "unique(sous_nut[sous_nut$Valeur==\"\" | sous_nut$Valeur==\"<0.1\",\"Zone\"])"
   ]
  },
  {
   "cell_type": "markdown",
   "id": "e995fb0d",
   "metadata": {},
   "source": [
    "On peut voir ici une liste de pays très hétérogène avec des pays plus ou moins développés"
   ]
  },
  {
   "cell_type": "code",
   "execution_count": 17,
   "id": "dc4083b9",
   "metadata": {
    "scrolled": false
   },
   "outputs": [],
   "source": [
    "sous_nut[sous_nut$Valeur==\"\",\"Valeur\"] <- 0\n",
    "sous_nut[sous_nut$Valeur==\"<0.1\",\"Valeur\"] <- 0"
   ]
  },
  {
   "cell_type": "markdown",
   "id": "ab94efb3",
   "metadata": {},
   "source": [
    "Maintenant, nous allons la convertir en numérique.\n",
    "Enfin, la colonne \"Année\" ne nous satisfait pas car il s'agit d'un intervalle. Nous allons, comme il l'est dit dans le lexique des données, simplifier cela en résumant l'intervalle 2012-2014 en 2013. On fera donc la moyenne de l'intervalle grâce au code suivant:"
   ]
  },
  {
   "cell_type": "code",
   "execution_count": 18,
   "id": "fab48201",
   "metadata": {
    "scrolled": false
   },
   "outputs": [],
   "source": [
    "sous_nut$Valeur <- as.numeric(sous_nut$Valeur)\n",
    "\n",
    "for (i in (1:nrow(sous_nut))){\n",
    "    sous_nut[i,'AnDeb'] <- as.numeric(substr(sous_nut[i,'Année'], start = 1, stop = 4))\n",
    "    sous_nut[i,'AnFin'] <- as.numeric(substr(sous_nut[i,'Année'], start = 6, stop = 9))\n",
    "}\n",
    "sous_nut['Année'] <- apply(sous_nut[c(\"AnDeb\", \"AnFin\")],1,mean)\n",
    "sous_nut <- subset(sous_nut, select=-c(AnDeb, AnFin))"
   ]
  },
  {
   "cell_type": "markdown",
   "id": "a26222e3",
   "metadata": {},
   "source": [
    "On vérifie que cela a bien fonctionné:"
   ]
  },
  {
   "cell_type": "code",
   "execution_count": 19,
   "id": "bf97eb67",
   "metadata": {
    "scrolled": false
   },
   "outputs": [
    {
     "data": {
      "text/html": [
       "<table class=\"dataframe\">\n",
       "<caption>A data.frame: 6 × 3</caption>\n",
       "<thead>\n",
       "\t<tr><th></th><th scope=col>Zone</th><th scope=col>Année</th><th scope=col>Valeur</th></tr>\n",
       "\t<tr><th></th><th scope=col>&lt;chr&gt;</th><th scope=col>&lt;dbl&gt;</th><th scope=col>&lt;dbl&gt;</th></tr>\n",
       "</thead>\n",
       "<tbody>\n",
       "\t<tr><th scope=row>1</th><td>Afghanistan</td><td>2013</td><td> 8.6</td></tr>\n",
       "\t<tr><th scope=row>2</th><td>Afghanistan</td><td>2014</td><td> 8.8</td></tr>\n",
       "\t<tr><th scope=row>3</th><td>Afghanistan</td><td>2015</td><td> 8.9</td></tr>\n",
       "\t<tr><th scope=row>4</th><td>Afghanistan</td><td>2016</td><td> 9.7</td></tr>\n",
       "\t<tr><th scope=row>5</th><td>Afghanistan</td><td>2017</td><td>10.5</td></tr>\n",
       "\t<tr><th scope=row>6</th><td>Afghanistan</td><td>2018</td><td>11.1</td></tr>\n",
       "</tbody>\n",
       "</table>\n"
      ],
      "text/latex": [
       "A data.frame: 6 × 3\n",
       "\\begin{tabular}{r|lll}\n",
       "  & Zone & Année & Valeur\\\\\n",
       "  & <chr> & <dbl> & <dbl>\\\\\n",
       "\\hline\n",
       "\t1 & Afghanistan & 2013 &  8.6\\\\\n",
       "\t2 & Afghanistan & 2014 &  8.8\\\\\n",
       "\t3 & Afghanistan & 2015 &  8.9\\\\\n",
       "\t4 & Afghanistan & 2016 &  9.7\\\\\n",
       "\t5 & Afghanistan & 2017 & 10.5\\\\\n",
       "\t6 & Afghanistan & 2018 & 11.1\\\\\n",
       "\\end{tabular}\n"
      ],
      "text/markdown": [
       "\n",
       "A data.frame: 6 × 3\n",
       "\n",
       "| <!--/--> | Zone &lt;chr&gt; | Année &lt;dbl&gt; | Valeur &lt;dbl&gt; |\n",
       "|---|---|---|---|\n",
       "| 1 | Afghanistan | 2013 |  8.6 |\n",
       "| 2 | Afghanistan | 2014 |  8.8 |\n",
       "| 3 | Afghanistan | 2015 |  8.9 |\n",
       "| 4 | Afghanistan | 2016 |  9.7 |\n",
       "| 5 | Afghanistan | 2017 | 10.5 |\n",
       "| 6 | Afghanistan | 2018 | 11.1 |\n",
       "\n"
      ],
      "text/plain": [
       "  Zone        Année Valeur\n",
       "1 Afghanistan 2013   8.6  \n",
       "2 Afghanistan 2014   8.8  \n",
       "3 Afghanistan 2015   8.9  \n",
       "4 Afghanistan 2016   9.7  \n",
       "5 Afghanistan 2017  10.5  \n",
       "6 Afghanistan 2018  11.1  "
      ]
     },
     "metadata": {},
     "output_type": "display_data"
    }
   ],
   "source": [
    "head(sous_nut)"
   ]
  },
  {
   "cell_type": "code",
   "execution_count": 20,
   "id": "5ca8596c",
   "metadata": {
    "scrolled": false
   },
   "outputs": [
    {
     "data": {
      "text/html": [
       "<style>\n",
       ".list-inline {list-style: none; margin:0; padding: 0}\n",
       ".list-inline>li {display: inline-block}\n",
       ".list-inline>li:not(:last-child)::after {content: \"\\00b7\"; padding: 0 .5ex}\n",
       "</style>\n",
       "<ol class=list-inline><li>2013</li><li>2014</li><li>2015</li><li>2016</li><li>2017</li><li>2018</li></ol>\n"
      ],
      "text/latex": [
       "\\begin{enumerate*}\n",
       "\\item 2013\n",
       "\\item 2014\n",
       "\\item 2015\n",
       "\\item 2016\n",
       "\\item 2017\n",
       "\\item 2018\n",
       "\\end{enumerate*}\n"
      ],
      "text/markdown": [
       "1. 2013\n",
       "2. 2014\n",
       "3. 2015\n",
       "4. 2016\n",
       "5. 2017\n",
       "6. 2018\n",
       "\n",
       "\n"
      ],
      "text/plain": [
       "[1] 2013 2014 2015 2016 2017 2018"
      ]
     },
     "metadata": {},
     "output_type": "display_data"
    }
   ],
   "source": [
    "unique(sous_nut$Année)"
   ]
  },
  {
   "cell_type": "code",
   "execution_count": 21,
   "id": "feb1a835",
   "metadata": {
    "scrolled": false
   },
   "outputs": [],
   "source": [
    "sous_nut <- rename(sous_nut, c(\"pays\" = \"Zone\",\n",
    "                               \"annee\" = \"Année\",\n",
    "                               \"pop_sous_nut\" = \"Valeur\")\n",
    "                   )"
   ]
  },
  {
   "cell_type": "markdown",
   "id": "c56ed283",
   "metadata": {},
   "source": [
    "Nous terminons en changeant le nom des colonnes."
   ]
  },
  {
   "cell_type": "markdown",
   "id": "11ca1112",
   "metadata": {},
   "source": [
    "## 3. Réponses aux questions\n",
    "### 3.1 Marc\n",
    "#### <center><i>Question 1:</i> Proportion de personnes en état de sous-nutrition</center>\n",
    "\n",
    "Nous allons tout d'abord faire une jointure sur les fichiers pop et sous_nut. Ensuite nous calculerons par année la population totale et en sous-nutrition."
   ]
  },
  {
   "cell_type": "code",
   "execution_count": 22,
   "id": "edec54b1",
   "metadata": {
    "scrolled": false
   },
   "outputs": [],
   "source": [
    "m_pop_sous_nut <- merge(pop,sous_nut, by = c(\"pays\", \"annee\"), all = T)\n",
    "m_pop_sous_nut['proportion'] <- (m_pop_sous_nut$pop_sous_nut/m_pop_sous_nut$pop_total)*100"
   ]
  },
  {
   "cell_type": "code",
   "execution_count": 23,
   "id": "b8d5a382",
   "metadata": {},
   "outputs": [
    {
     "data": {
      "text/html": [
       "7.09711820328307"
      ],
      "text/latex": [
       "7.09711820328307"
      ],
      "text/markdown": [
       "7.09711820328307"
      ],
      "text/plain": [
       "[1] 7.097"
      ]
     },
     "metadata": {},
     "output_type": "display_data"
    }
   ],
   "source": [
    "a_mondial_sous_nut <- aggregate(m_pop_sous_nut[c(\"pop_total\", \"pop_sous_nut\")], m_pop_sous_nut['annee'], sum, na.rm=T)\n",
    "a_mondial_sous_nut['proportion'] <- (a_mondial_sous_nut$pop_sous_nut/a_mondial_sous_nut$pop_total)*100\n",
    "a_mondial_sous_nut[a_mondial_sous_nut$annee==2017, \"proportion\"]\n",
    "\n",
    "pop_total_mondial_2017 <- a_mondial_sous_nut[a_mondial_sous_nut[\"annee\"]==2017,\"pop_total\"]"
   ]
  },
  {
   "cell_type": "markdown",
   "id": "d9b5d724",
   "metadata": {},
   "source": [
    "**La proportion de personnes en état de sous-nutrition dans le monde pour l'année 2017 est de 7,1%.**\n",
    "\n",
    "Cela représente tout de même 535 millions de personnes."
   ]
  },
  {
   "cell_type": "markdown",
   "id": "b3375bcc",
   "metadata": {},
   "source": [
    "#### <center><i>Question 2:</i> Population théorique nourrissable </center>\n",
    "    \n",
    "<div style=\"text-align: justify\">Nous allons voir, avec un calcul simplifié, le nombre total de personne que nous pourrions nourrir. Pour cela nous considérons qu'un humain a besoin de 2450<sup>1</sup> calories par jour.\n",
    "\n",
    "<sup>1.</sup> Ce chiffre est obtenue en faisant la moyenne entre 2700 et 2200 qui est le nombre de calories par jour qu'ont besoin respectivement un homme et une femme. Ces valeurs sont les valeurs hautes trouvées sur internet. Nous prenons aussi comme hypothèse qu'il y a autant d'hommes que de femmes sur terre (en réalité 50,4% d'hommes).</div>"
   ]
  },
  {
   "cell_type": "code",
   "execution_count": 24,
   "id": "9c97aa1c",
   "metadata": {},
   "outputs": [
    {
     "name": "stdout",
     "output_type": "stream",
     "text": [
      "Nous aurions pu nourrir  8.646 milliard d'êtres humains en 2017 en prenant en compte tous les produits dont nous disposons."
     ]
    }
   ],
   "source": [
    "a_dispo <- aggregate(dispo['Disponibilité.alimentaire..Kcal.personne.jour.'],dispo['pays'],sum,na.rm=T)\n",
    "ma_dispo_pop <- merge(pop[pop[\"annee\"]==2017,c('pays', 'pop_total')], a_dispo)\n",
    "\n",
    "ma_dispo_pop['dispo_alim'] = ma_dispo_pop$pop_total * ma_dispo_pop$Disponibilité.alimentaire..Kcal.personne.jour.\n",
    "pop_theorique_nourrit <- sum(ma_dispo_pop$dispo_alim)/2450\n",
    "\n",
    "cat(\"Nous aurions pu nourrir \", pop_theorique_nourrit/1000, \"milliard d'êtres humains en 2017 en prenant en compte tous les produits dont nous disposons.\")"
   ]
  },
  {
   "cell_type": "markdown",
   "id": "6588445e",
   "metadata": {},
   "source": [
    "<div style=\"text-align: justify\">En 2017, nous aurions donc pu nourrir <b>8 milliards 646 millions</b> de personnes soit presqu'1 milliard d'êtres humains supplémentaire que la population mondiale. Ce chiffre est obtenu en prenant en compte la disponibilité alimentaire des produits d'origine animale et végétale. Regardons ce qu'il se passe si nous ne prenions que les végétaux:</div>\n",
    "\n",
    "#### <center><i>Question 3:</i> Population théorique nourrissable avec les produits d'origines végétaux uniquement</center>"
   ]
  },
  {
   "cell_type": "code",
   "execution_count": 25,
   "id": "7e14b6a0",
   "metadata": {},
   "outputs": [
    {
     "data": {
      "text/html": [
       "<strong>Nombre de personnes pouvant être nourrit avec des produits d'origines végétales:</strong> 7122248742"
      ],
      "text/latex": [
       "\\textbf{Nombre de personnes pouvant être nourrit avec des produits d'origines végétales:} 7122248742"
      ],
      "text/markdown": [
       "**Nombre de personnes pouvant être nourrit avec des produits d'origines végétales:** 7122248742"
      ],
      "text/plain": [
       "Nombre de personnes pouvant être nourrit avec des produits d'origines végétales \n",
       "                                                                      7.122e+09 "
      ]
     },
     "metadata": {},
     "output_type": "display_data"
    }
   ],
   "source": [
    "a_dispo <- aggregate(dispo[dispo[\"Origine\"]==\"vegetale\",]['Disponibilité.alimentaire..Kcal.personne.jour.'],dispo[dispo[\"Origine\"]==\"vegetale\",]['pays'],sum,na.rm=T)\n",
    "ma_dispo_pop <- merge(pop[pop[\"annee\"]==2017,c('pays', 'pop_total')], a_dispo)\n",
    "\n",
    "ma_dispo_pop['dispo_alim'] = ma_dispo_pop$pop_total * ma_dispo_pop$Disponibilité.alimentaire..Kcal.personne.jour.\n",
    "\n",
    "pop_theorique_nourrit <- apply(ma_dispo_pop['dispo_alim'],2,sum)/2450\n",
    "names(pop_theorique_nourrit) <- \"Nombre de personnes pouvant être nourrit avec des produits d'origines végétales\"\n",
    "floor(pop_theorique_nourrit * 1000000)"
   ]
  },
  {
   "cell_type": "markdown",
   "id": "43f65358",
   "metadata": {},
   "source": [
    "<div style=\"text-align: justify\">Il serait alors possible de nourrir plus de 7 milliards d'êtres humains. Ainsi, avoir des cas de sous-nutrition montre que les ressources sont mal redistribuées.</div>\n",
    "\n",
    "<div style=\"text-align: justify\">Pour finir cette partie au niveau mondial, nous allons nous intérésser à l'utilisation de ces produits, en particulier à la part redistribuée aux animaux, aux êtres humains, la perte, et à la semence pour l'année 2017.</div>\n",
    "\n",
    "#### <center><i>Question 4:</i> Utilisation de la disponibilité intérieure</center>"
   ]
  },
  {
   "cell_type": "code",
   "execution_count": 26,
   "id": "6748a965",
   "metadata": {},
   "outputs": [
    {
     "name": "stdout",
     "output_type": "stream",
     "text": [
      "La proportion de l'alimentation humaine dans la disponibilité intérieure est de : 49.51 %\n",
      "La proportion de pertes dans la disponibilité intérieure est de : 4.607 %\n",
      "La proportion de l'alimentation pour les animaux dans la disponibilité intérieure est de : 13.24 %\n",
      "La proportion de semences dans la disponibilité intérieure est de : 1.571 %\n"
     ]
    }
   ],
   "source": [
    "# On fait la somme des colonnes\n",
    "recap_util <- apply(dispo[,c(\"Disponibilité.intérieure\", \"Nourriture\", \"Pertes\", \"Aliments.pour.animaux\", \"Semences\")],2,\n",
    "                    sum,na.rm=T)\n",
    "# On divise la somme des colonnes par la dispo intérieur pour l'avoir en proportion\n",
    "recap_util <- (recap_util[c(\"Nourriture\", \"Pertes\", \"Aliments.pour.animaux\", \"Semences\")]/\n",
    "               recap_util[\"Disponibilité.intérieure\"])*100\n",
    "names(recap_util) <- c(\"l'alimentation humaine\", \"pertes\", \"l'alimentation pour les animaux\", 'semences')\n",
    "for (i in 1:4){\n",
    "    cat(\"La proportion de\",names(recap_util[i]), \"dans la disponibilité intérieure est de :\", recap_util[i],\"%\\n\")\n",
    "}"
   ]
  },
  {
   "cell_type": "code",
   "execution_count": 27,
   "id": "997be317",
   "metadata": {},
   "outputs": [
    {
     "data": {
      "image/png": "[encoded data removed]",
      "text/plain": [
       "Plot with title \"Utilisation de la disponibilité intérieure mondiale\""
      ]
     },
     "metadata": {
      "image/png": {
       "height": 480,
       "width": 900
      }
     },
     "output_type": "display_data"
    }
   ],
   "source": [
    "options(repr.plot.width=15, repr.plot.height=8)\n",
    "recap_util['reste'] = 100 - sum(recap_util)\n",
    "pie(recap_util,cex=1.5, main=\"Utilisation de la disponibilité intérieure mondiale\", \n",
    "    col=c(\"#3498DB\",\"#AD61C8\", \"#F4D03F\", \"#58D68D\", \"#EC7063\"), cex.main=1.8)\n",
    "#La fonction permet d'indiquer le pourcentage au centre de chaque catégorie\n",
    "text_pie = function(vector,labels=c(),cex=1) {\n",
    "     vector = vector/sum(vector)*2*pi\n",
    "     temp = c()\n",
    "     j = 0\n",
    "     l = 0\n",
    "     for (i in 1:length(vector)) {\n",
    "          k = vector[i]/2        \n",
    "          j =  j+l+k\n",
    "          l = k\n",
    "          text(cos(j)*0.4,sin(j)*0.4,labels[i],cex=cex)\n",
    "     }\n",
    "     vector = temp\n",
    "}\n",
    "text_pie(recap_util, c(sub(\"\\\\.\",\"%\",substr(recap_util, 1, regexpr(\"\\\\.\",recap_util)))), cex=1.5)"
   ]
  },
  {
   "cell_type": "markdown",
   "id": "a4279373",
   "metadata": {},
   "source": [
    "<div style=\"text-align: justify\">Le \"reste\" est la partie que nous n'avons pas inclue dans notre étude. Ces chiffres sont à prendre avec précaution, la disponibilité intérieure n'est pas exactement égale à son utilisation. </div>\n",
    "\n",
    "### 3.2 Julien\n",
    "#### <center><i>Remarque 1:</i> Relation avec la disponibilité intérieure</center>\n",
    "\n",
    "Par intuition, nous supposons que la disponibilité intérieure est égale à la façon dont nous obtenons le produit et également à la façon dont nous le consommons.\n",
    "\n",
    "Voici les formules:\n",
    "$$Dispo\\ intérieure = Production + Importations – Exportation + Variation\\ de\\ stock$$\n",
    "$$Dispo\\ intérieure = Nourriture + Pertes + Aliments\\ pour\\ animaux + Autres\\ utilisations + Semences + Traitement$$\n",
    "    \n",
    "#### <center><i>Remarque 2:</i> Utilisation des céréales</center>"
   ]
  },
  {
   "cell_type": "code",
   "execution_count": 28,
   "id": "22fec95c",
   "metadata": {},
   "outputs": [],
   "source": [
    "a_dispo <- aggregate(dispo[c(\"Disponibilité.intérieure\", \"Nourriture\", \"Pertes\", \"Aliments.pour.animaux\", \"Semences\")],\n",
    "    dispo[\"Produit\"],sum,na.rm=T)\n",
    "\n",
    "Liste_céréale <- c(\"Blé\", \"Riz (Eq Blanchi)\", \"Orge\", \"Maïs\", \"Seigle\", \"Avoine\", \"Millet\", \"Sorgho\", \"Céréales, Autres\")\n",
    "\n",
    "\n",
    "recap_cereale <- apply(a_dispo[a_dispo$Produit %in% Liste_céréale,\n",
    "    c(\"Disponibilité.intérieure\", \"Nourriture\", \"Pertes\", \"Aliments.pour.animaux\", \"Semences\")],2,sum)"
   ]
  },
  {
   "cell_type": "code",
   "execution_count": 29,
   "id": "dc98a4c1",
   "metadata": {},
   "outputs": [
    {
     "name": "stdout",
     "output_type": "stream",
     "text": [
      "La proportion de l'alimentation humaine dans l'utilisation des céréales est de : 42.75 %\n",
      "La proportion de pertes dans l'utilisation des céréales est de : 4.45 %\n",
      "La proportion de l'alimentation pour les animaux dans l'utilisation des céréales est de : 36.29 %\n",
      "La proportion de semences dans l'utilisation des céréales est de : 2.847 %\n"
     ]
    }
   ],
   "source": [
    "recap_cereale <- (recap_cereale[c(\"Nourriture\", \"Pertes\", \"Aliments.pour.animaux\", \"Semences\")]/\n",
    "                  recap_cereale[\"Disponibilité.intérieure\"])*100\n",
    "\n",
    "names(recap_cereale) <- c(\"l'alimentation humaine\", \"pertes\", \"l'alimentation pour les animaux\", 'semences')\n",
    "for (i in 1:4){\n",
    "    cat(\"La proportion de\",names(recap_cereale[i]), \"dans l'utilisation des céréales est de :\", recap_cereale[i],\"%\\n\")\n",
    "}"
   ]
  },
  {
   "cell_type": "code",
   "execution_count": 30,
   "id": "ed986387",
   "metadata": {},
   "outputs": [
    {
     "data": {
      "image/png": "[encoded data removed]",
      "text/plain": [
       "Plot with title \"Utilisation des céréales\""
      ]
     },
     "metadata": {
      "image/png": {
       "height": 480,
       "width": 900
      }
     },
     "output_type": "display_data"
    }
   ],
   "source": [
    "recap_cereale['reste'] = 100 - sum(recap_cereale)\n",
    "pie(recap_cereale,cex=1.5, main=\"Utilisation des céréales\", \n",
    "    col=c(\"#3498DB\",\"#AD61C8\", \"#F4D03F\", \"#58D68D\", \"#EC7063\"), cex.main=1.8)\n",
    "text_pie = function(vector,labels=c(),cex=1) {\n",
    "     vector = vector/sum(vector)*2*pi\n",
    "     temp = c()\n",
    "     j = 0\n",
    "     l = 0\n",
    "     for (i in 1:length(vector)) {\n",
    "          k = vector[i]/2        \n",
    "          j =  j+l+k\n",
    "          l = k\n",
    "          text(cos(j)*0.4,sin(j)*0.4,labels[i],cex=cex)\n",
    "     }\n",
    "     vector = temp\n",
    "}\n",
    "text_pie(recap_cereale, c(sub(\"\\\\.\",\"%\",substr(recap_cereale, 1, regexpr(\"\\\\.\",recap_cereale)))), cex=1.5)"
   ]
  },
  {
   "cell_type": "markdown",
   "id": "15ac9c75",
   "metadata": {},
   "source": [
    "#### <center><i>Remarque 3:</i> Utilisation du Manioc par la Thaïlande</center>"
   ]
  },
  {
   "cell_type": "code",
   "execution_count": 31,
   "id": "d3cd2865",
   "metadata": {},
   "outputs": [
    {
     "data": {
      "text/html": [
       "<table class=\"dataframe\">\n",
       "<caption>A data.frame: 1 × 10</caption>\n",
       "<thead>\n",
       "\t<tr><th></th><th scope=col>pays</th><th scope=col>produit</th><th scope=col>aliments_animaux</th><th scope=col>autres_utilisation</th><th scope=col>dispo_interieur</th><th scope=col>exportations</th><th scope=col>importations</th><th scope=col>nourriture</th><th scope=col>pertes</th><th scope=col>proportion_pop_sous_nut</th></tr>\n",
       "\t<tr><th></th><th scope=col>&lt;chr&gt;</th><th scope=col>&lt;chr&gt;</th><th scope=col>&lt;dbl&gt;</th><th scope=col>&lt;dbl&gt;</th><th scope=col>&lt;dbl&gt;</th><th scope=col>&lt;dbl&gt;</th><th scope=col>&lt;dbl&gt;</th><th scope=col>&lt;dbl&gt;</th><th scope=col>&lt;dbl&gt;</th><th scope=col>&lt;dbl&gt;</th></tr>\n",
       "</thead>\n",
       "<tbody>\n",
       "\t<tr><th scope=row>51</th><td>Thaïlande</td><td>Manioc</td><td>5.955</td><td>6.884</td><td>20.72</td><td>83.41</td><td>4.135</td><td>2.881</td><td>4.999</td><td>8.958</td></tr>\n",
       "</tbody>\n",
       "</table>\n"
      ],
      "text/latex": [
       "A data.frame: 1 × 10\n",
       "\\begin{tabular}{r|llllllllll}\n",
       "  & pays & produit & aliments\\_animaux & autres\\_utilisation & dispo\\_interieur & exportations & importations & nourriture & pertes & proportion\\_pop\\_sous\\_nut\\\\\n",
       "  & <chr> & <chr> & <dbl> & <dbl> & <dbl> & <dbl> & <dbl> & <dbl> & <dbl> & <dbl>\\\\\n",
       "\\hline\n",
       "\t51 & Thaïlande & Manioc & 5.955 & 6.884 & 20.72 & 83.41 & 4.135 & 2.881 & 4.999 & 8.958\\\\\n",
       "\\end{tabular}\n"
      ],
      "text/markdown": [
       "\n",
       "A data.frame: 1 × 10\n",
       "\n",
       "| <!--/--> | pays &lt;chr&gt; | produit &lt;chr&gt; | aliments_animaux &lt;dbl&gt; | autres_utilisation &lt;dbl&gt; | dispo_interieur &lt;dbl&gt; | exportations &lt;dbl&gt; | importations &lt;dbl&gt; | nourriture &lt;dbl&gt; | pertes &lt;dbl&gt; | proportion_pop_sous_nut &lt;dbl&gt; |\n",
       "|---|---|---|---|---|---|---|---|---|---|---|\n",
       "| 51 | Thaïlande | Manioc | 5.955 | 6.884 | 20.72 | 83.41 | 4.135 | 2.881 | 4.999 | 8.958 |\n",
       "\n"
      ],
      "text/plain": [
       "   pays      produit aliments_animaux autres_utilisation dispo_interieur exportations importations nourriture pertes\n",
       "51 Thaïlande Manioc  5.955            6.884              20.72           83.41        4.135        2.881      4.999 \n",
       "   proportion_pop_sous_nut\n",
       "51 8.958                  "
      ]
     },
     "metadata": {},
     "output_type": "display_data"
    }
   ],
   "source": [
    "dispo_thai <- dispo[dispo$pays==\"Thaïlande\",]\n",
    "dispo_thai <- rename(dispo_thai, c(\"produit\" = \"Produit\",\n",
    "                                   \"aliments_animaux\" = \"Aliments.pour.animaux\",\n",
    "                                   \"autres_utilisation\" = \"Autres.Utilisations\",\n",
    "                                   \"dispo_interieur\" = \"Disponibilité.intérieure\",\n",
    "                                   \"exportations\" = \"Exportations...Quantité\",\n",
    "                                   \"importations\" = \"Importations...Quantité\",\n",
    "                                   \"nourriture\" = \"Nourriture\",\n",
    "                                   \"pertes\" = \"Pertes\",\n",
    "                                   \"production\" = \"Production\",\n",
    "                                   \"semences\" = \"Semences\",\n",
    "                                   \"traitement\" = \"Traitement\")\n",
    "                     )\n",
    "# Chaque colonne est exprimé en proportion de la production\n",
    "dispo_thai[c(\"aliments_animaux\", \"autres_utilisation\", \"dispo_interieur\", \"exportations\", \"importations\",\n",
    "             \"nourriture\", \"pertes\", \"semences\", \"traitement\")] =\n",
    "    (dispo_thai[c(\"aliments_animaux\", \"autres_utilisation\", \"dispo_interieur\", \"exportations\", \"importations\",\n",
    "             \"nourriture\", \"pertes\", \"semences\", \"traitement\")]/\n",
    "     dispo_thai$production)*100\n",
    "\n",
    "\n",
    "m_pop_sous_nut_2017 <- m_pop_sous_nut[m_pop_sous_nut[\"annee\"]==2017,]\n",
    "m_pop_sous_nut_2017$annee <- NULL\n",
    "\n",
    "dispo_thai <- merge(dispo_thai, m_pop_sous_nut_2017[c(\"pays\", \"proportion\")], by=\"pays\", all.x =T)\n",
    "colnames(dispo_thai)[names(dispo_thai)==\"proportion\"] <- \"proportion_pop_sous_nut\"\n",
    "\n",
    "dispo_thai[dispo_thai[\"produit\"]=='Manioc', \n",
    "            c(\"pays\",\"produit\",\"aliments_animaux\",\"autres_utilisation\",\"dispo_interieur\",\"exportations\",\"importations\",\n",
    "             \"nourriture\",\"pertes\",\"proportion_pop_sous_nut\")]"
   ]
  },
  {
   "cell_type": "markdown",
   "id": "6ed88e4a",
   "metadata": {},
   "source": [
    "On peut voir que la Thaïlande ne consomme que très peu de sa production de manioc. Leur production est utilisée à plus de 80% pour l'exportation.\n",
    "\n",
    "### 3.3 Mélanie\n",
    "\n",
    "Pour cette partie, nous commencerons par définir plusieurs variables:\n",
    "<ol>\n",
    "    <li>Liste_pays_sous_nut_2017: La liste des pays ayant de la population en sous-nutrition en 2017</li>\n",
    "    <li>a_dispo: La somme par pays de la disponibilité alimentaire, des pertes et de la production </li>\n",
    "    <li>a_aide: La somme par pays des aides cumulées depuis 2013</li>\n",
    "    <li>m_dispo_pop_sous_nut: La jointure du dataframe précédent avec le fichier de disponibilité alimentaire et d'aides</li>\n",
    "    <li>m_dispo_pop_sous_nut_pays: Utilisation du dataframe précédent en gardant uniquement les pays faisant partie de la liste</li>\n",
    "</ol>\n",
    "Regardons alors les pays avec le plus de personnes en sous-nutrition.\n",
    "\n",
    "#### <center><i>Question 1:</i> Pays avec la proportion de personnes en état de sous-nutrition la plus élevée</center>"
   ]
  },
  {
   "cell_type": "code",
   "execution_count": 32,
   "id": "5c990199",
   "metadata": {
    "scrolled": false
   },
   "outputs": [
    {
     "data": {
      "text/html": [
       "<table class=\"dataframe\">\n",
       "<caption>A data.frame: 15 × 8</caption>\n",
       "<thead>\n",
       "\t<tr><th></th><th scope=col>pays</th><th scope=col>pop_total</th><th scope=col>pop_sous_nut</th><th scope=col>proportion</th><th scope=col>Disponibilité.alimentaire..Kcal.personne.jour.</th><th scope=col>Pertes</th><th scope=col>Production</th><th scope=col>quantite</th></tr>\n",
       "\t<tr><th></th><th scope=col>&lt;chr&gt;</th><th scope=col>&lt;dbl&gt;</th><th scope=col>&lt;dbl&gt;</th><th scope=col>&lt;dbl&gt;</th><th scope=col>&lt;dbl&gt;</th><th scope=col>&lt;dbl&gt;</th><th scope=col>&lt;dbl&gt;</th><th scope=col>&lt;int&gt;</th></tr>\n",
       "</thead>\n",
       "<tbody>\n",
       "\t<tr><th scope=row>88</th><td>Haïti                                     </td><td>10.982</td><td> 5.3</td><td>48.26</td><td>2089</td><td> 679</td><td> 5072</td><td>116450</td></tr>\n",
       "\t<tr><th scope=row>183</th><td>République populaire démocratique de Corée</td><td>25.430</td><td>12.0</td><td>47.19</td><td>2093</td><td>1066</td><td>13883</td><td>187412</td></tr>\n",
       "\t<tr><th scope=row>129</th><td>Madagascar                                </td><td>25.571</td><td>10.5</td><td>41.06</td><td>2056</td><td> 966</td><td>14160</td><td> 96678</td></tr>\n",
       "\t<tr><th scope=row>123</th><td>Libéria                                   </td><td> 4.702</td><td> 1.8</td><td>38.28</td><td>2206</td><td> 111</td><td> 1533</td><td> 19846</td></tr>\n",
       "\t<tr><th scope=row>120</th><td>Lesotho                                   </td><td> 2.092</td><td> 0.8</td><td>38.25</td><td>2528</td><td>  51</td><td>  418</td><td> 10624</td></tr>\n",
       "\t<tr><th scope=row>217</th><td>Tchad                                     </td><td>15.017</td><td> 5.7</td><td>37.96</td><td>2109</td><td> 459</td><td> 5153</td><td>267966</td></tr>\n",
       "\t<tr><th scope=row>187</th><td>Rwanda                                    </td><td>11.981</td><td> 4.2</td><td>35.06</td><td>2224</td><td> 435</td><td>12952</td><td> 11408</td></tr>\n",
       "\t<tr><th scope=row>146</th><td>Mozambique                                </td><td>28.649</td><td> 9.4</td><td>32.81</td><td>2282</td><td>1163</td><td>20742</td><td> 58612</td></tr>\n",
       "\t<tr><th scope=row>220</th><td>Timor-Leste                               </td><td> 1.243</td><td> 0.4</td><td>32.17</td><td>2129</td><td>  14</td><td>  371</td><td>   116</td></tr>\n",
       "\t<tr><th scope=row>1</th><td>Afghanistan                               </td><td>36.296</td><td>10.5</td><td>28.93</td><td>2087</td><td>1135</td><td>11171</td><td>185452</td></tr>\n",
       "\t<tr><th scope=row>49</th><td>Congo                                     </td><td> 5.111</td><td> 1.4</td><td>27.39</td><td>2206</td><td> 342</td><td> 2968</td><td> 22950</td></tr>\n",
       "\t<tr><th scope=row>232</th><td>Venezuela (République bolivarienne du)    </td><td>29.402</td><td> 8.0</td><td>27.21</td><td>2633</td><td>1190</td><td>23868</td><td>    NA</td></tr>\n",
       "\t<tr><th scope=row>204</th><td>Sierra Leone                              </td><td> 7.488</td><td> 2.0</td><td>26.71</td><td>2401</td><td>2191</td><td> 6548</td><td> 25942</td></tr>\n",
       "\t<tr><th scope=row>175</th><td>République-Unie de Tanzanie               </td><td>54.660</td><td>13.4</td><td>24.52</td><td>2204</td><td>3236</td><td>40849</td><td>172022</td></tr>\n",
       "\t<tr><th scope=row>107</th><td>Iraq                                      </td><td>37.553</td><td> 9.0</td><td>23.97</td><td>2542</td><td>1529</td><td>12923</td><td>  3598</td></tr>\n",
       "</tbody>\n",
       "</table>\n"
      ],
      "text/latex": [
       "A data.frame: 15 × 8\n",
       "\\begin{tabular}{r|llllllll}\n",
       "  & pays & pop\\_total & pop\\_sous\\_nut & proportion & Disponibilité.alimentaire..Kcal.personne.jour. & Pertes & Production & quantite\\\\\n",
       "  & <chr> & <dbl> & <dbl> & <dbl> & <dbl> & <dbl> & <dbl> & <int>\\\\\n",
       "\\hline\n",
       "\t88 & Haïti                                      & 10.982 &  5.3 & 48.26 & 2089 &  679 &  5072 & 116450\\\\\n",
       "\t183 & République populaire démocratique de Corée & 25.430 & 12.0 & 47.19 & 2093 & 1066 & 13883 & 187412\\\\\n",
       "\t129 & Madagascar                                 & 25.571 & 10.5 & 41.06 & 2056 &  966 & 14160 &  96678\\\\\n",
       "\t123 & Libéria                                    &  4.702 &  1.8 & 38.28 & 2206 &  111 &  1533 &  19846\\\\\n",
       "\t120 & Lesotho                                    &  2.092 &  0.8 & 38.25 & 2528 &   51 &   418 &  10624\\\\\n",
       "\t217 & Tchad                                      & 15.017 &  5.7 & 37.96 & 2109 &  459 &  5153 & 267966\\\\\n",
       "\t187 & Rwanda                                     & 11.981 &  4.2 & 35.06 & 2224 &  435 & 12952 &  11408\\\\\n",
       "\t146 & Mozambique                                 & 28.649 &  9.4 & 32.81 & 2282 & 1163 & 20742 &  58612\\\\\n",
       "\t220 & Timor-Leste                                &  1.243 &  0.4 & 32.17 & 2129 &   14 &   371 &    116\\\\\n",
       "\t1 & Afghanistan                                & 36.296 & 10.5 & 28.93 & 2087 & 1135 & 11171 & 185452\\\\\n",
       "\t49 & Congo                                      &  5.111 &  1.4 & 27.39 & 2206 &  342 &  2968 &  22950\\\\\n",
       "\t232 & Venezuela (République bolivarienne du)     & 29.402 &  8.0 & 27.21 & 2633 & 1190 & 23868 &     NA\\\\\n",
       "\t204 & Sierra Leone                               &  7.488 &  2.0 & 26.71 & 2401 & 2191 &  6548 &  25942\\\\\n",
       "\t175 & République-Unie de Tanzanie                & 54.660 & 13.4 & 24.52 & 2204 & 3236 & 40849 & 172022\\\\\n",
       "\t107 & Iraq                                       & 37.553 &  9.0 & 23.97 & 2542 & 1529 & 12923 &   3598\\\\\n",
       "\\end{tabular}\n"
      ],
      "text/markdown": [
       "\n",
       "A data.frame: 15 × 8\n",
       "\n",
       "| <!--/--> | pays &lt;chr&gt; | pop_total &lt;dbl&gt; | pop_sous_nut &lt;dbl&gt; | proportion &lt;dbl&gt; | Disponibilité.alimentaire..Kcal.personne.jour. &lt;dbl&gt; | Pertes &lt;dbl&gt; | Production &lt;dbl&gt; | quantite &lt;int&gt; |\n",
       "|---|---|---|---|---|---|---|---|---|\n",
       "| 88 | Haïti                                      | 10.982 |  5.3 | 48.26 | 2089 |  679 |  5072 | 116450 |\n",
       "| 183 | République populaire démocratique de Corée | 25.430 | 12.0 | 47.19 | 2093 | 1066 | 13883 | 187412 |\n",
       "| 129 | Madagascar                                 | 25.571 | 10.5 | 41.06 | 2056 |  966 | 14160 |  96678 |\n",
       "| 123 | Libéria                                    |  4.702 |  1.8 | 38.28 | 2206 |  111 |  1533 |  19846 |\n",
       "| 120 | Lesotho                                    |  2.092 |  0.8 | 38.25 | 2528 |   51 |   418 |  10624 |\n",
       "| 217 | Tchad                                      | 15.017 |  5.7 | 37.96 | 2109 |  459 |  5153 | 267966 |\n",
       "| 187 | Rwanda                                     | 11.981 |  4.2 | 35.06 | 2224 |  435 | 12952 |  11408 |\n",
       "| 146 | Mozambique                                 | 28.649 |  9.4 | 32.81 | 2282 | 1163 | 20742 |  58612 |\n",
       "| 220 | Timor-Leste                                |  1.243 |  0.4 | 32.17 | 2129 |   14 |   371 |    116 |\n",
       "| 1 | Afghanistan                                | 36.296 | 10.5 | 28.93 | 2087 | 1135 | 11171 | 185452 |\n",
       "| 49 | Congo                                      |  5.111 |  1.4 | 27.39 | 2206 |  342 |  2968 |  22950 |\n",
       "| 232 | Venezuela (République bolivarienne du)     | 29.402 |  8.0 | 27.21 | 2633 | 1190 | 23868 |     NA |\n",
       "| 204 | Sierra Leone                               |  7.488 |  2.0 | 26.71 | 2401 | 2191 |  6548 |  25942 |\n",
       "| 175 | République-Unie de Tanzanie                | 54.660 | 13.4 | 24.52 | 2204 | 3236 | 40849 | 172022 |\n",
       "| 107 | Iraq                                       | 37.553 |  9.0 | 23.97 | 2542 | 1529 | 12923 |   3598 |\n",
       "\n"
      ],
      "text/plain": [
       "    pays                                       pop_total pop_sous_nut proportion\n",
       "88  Haïti                                      10.982     5.3         48.26     \n",
       "183 République populaire démocratique de Corée 25.430    12.0         47.19     \n",
       "129 Madagascar                                 25.571    10.5         41.06     \n",
       "123 Libéria                                     4.702     1.8         38.28     \n",
       "120 Lesotho                                     2.092     0.8         38.25     \n",
       "217 Tchad                                      15.017     5.7         37.96     \n",
       "187 Rwanda                                     11.981     4.2         35.06     \n",
       "146 Mozambique                                 28.649     9.4         32.81     \n",
       "220 Timor-Leste                                 1.243     0.4         32.17     \n",
       "1   Afghanistan                                36.296    10.5         28.93     \n",
       "49  Congo                                       5.111     1.4         27.39     \n",
       "232 Venezuela (République bolivarienne du)     29.402     8.0         27.21     \n",
       "204 Sierra Leone                                7.488     2.0         26.71     \n",
       "175 République-Unie de Tanzanie                54.660    13.4         24.52     \n",
       "107 Iraq                                       37.553     9.0         23.97     \n",
       "    Disponibilité.alimentaire..Kcal.personne.jour. Pertes Production quantite\n",
       "88  2089                                            679    5072      116450  \n",
       "183 2093                                           1066   13883      187412  \n",
       "129 2056                                            966   14160       96678  \n",
       "123 2206                                            111    1533       19846  \n",
       "120 2528                                             51     418       10624  \n",
       "217 2109                                            459    5153      267966  \n",
       "187 2224                                            435   12952       11408  \n",
       "146 2282                                           1163   20742       58612  \n",
       "220 2129                                             14     371         116  \n",
       "1   2087                                           1135   11171      185452  \n",
       "49  2206                                            342    2968       22950  \n",
       "232 2633                                           1190   23868          NA  \n",
       "204 2401                                           2191    6548       25942  \n",
       "175 2204                                           3236   40849      172022  \n",
       "107 2542                                           1529   12923        3598  "
      ]
     },
     "metadata": {},
     "output_type": "display_data"
    }
   ],
   "source": [
    "a_dispo <- aggregate(dispo[c('Disponibilité.alimentaire..Kcal.personne.jour.', 'Pertes', 'Production')],\n",
    "                     dispo['pays'],sum,na.rm=T)\n",
    "a_aide <- aggregate(aide[\"quantite\"],aide[\"pays\"],sum)\n",
    "\n",
    "\n",
    "m_dispo_pop_sous_nut <- merge(m_pop_sous_nut_2017, a_dispo, by = \"pays\", all=T)\n",
    "m_dispo_pop_sous_nut <- merge(m_dispo_pop_sous_nut, a_aide, by = \"pays\", all=T)\n",
    "\n",
    "head(m_dispo_pop_sous_nut[order(m_dispo_pop_sous_nut[,\"proportion\"], decreasing = T),],15)"
   ]
  },
  {
   "cell_type": "markdown",
   "id": "f2401fff",
   "metadata": {},
   "source": [
    "Regardons maintenant les pays avec le plus d'aides alimentaires.\n",
    "\n",
    "#### <center><i>Question 2:</i> Pays ayant reçu le plus d'aides alimentaires</center>"
   ]
  },
  {
   "cell_type": "code",
   "execution_count": 33,
   "id": "9c0cef14",
   "metadata": {},
   "outputs": [
    {
     "data": {
      "text/html": [
       "<table class=\"dataframe\">\n",
       "<caption>A data.frame: 15 × 8</caption>\n",
       "<thead>\n",
       "\t<tr><th></th><th scope=col>pays</th><th scope=col>pop_total</th><th scope=col>pop_sous_nut</th><th scope=col>proportion</th><th scope=col>Disponibilité.alimentaire..Kcal.personne.jour.</th><th scope=col>Pertes</th><th scope=col>Production</th><th scope=col>quantite</th></tr>\n",
       "\t<tr><th></th><th scope=col>&lt;chr&gt;</th><th scope=col>&lt;dbl&gt;</th><th scope=col>&lt;dbl&gt;</th><th scope=col>&lt;dbl&gt;</th><th scope=col>&lt;dbl&gt;</th><th scope=col>&lt;dbl&gt;</th><th scope=col>&lt;dbl&gt;</th><th scope=col>&lt;int&gt;</th></tr>\n",
       "</thead>\n",
       "<tbody>\n",
       "\t<tr><th scope=row>176</th><td>République arabe syrienne                 </td><td> 17.10</td><td> 0.0</td><td> 0.00</td><td>  NA</td><td>  NA</td><td>    NA</td><td>1858943</td></tr>\n",
       "\t<tr><th scope=row>67</th><td>Éthiopie                                  </td><td>106.40</td><td>21.1</td><td>19.83</td><td>2129</td><td>2256</td><td> 46102</td><td>1381294</td></tr>\n",
       "\t<tr><th scope=row>234</th><td>Yémen                                     </td><td> 27.83</td><td> 0.0</td><td> 0.00</td><td>2217</td><td> 269</td><td>  4125</td><td>1206484</td></tr>\n",
       "\t<tr><th scope=row>211</th><td>Soudan du Sud                             </td><td> 10.91</td><td> 0.0</td><td> 0.00</td><td>  NA</td><td>  NA</td><td>    NA</td><td> 695248</td></tr>\n",
       "\t<tr><th scope=row>210</th><td>Soudan                                    </td><td> 40.81</td><td> 5.0</td><td>12.25</td><td>2335</td><td> 167</td><td> 30727</td><td> 669784</td></tr>\n",
       "\t<tr><th scope=row>116</th><td>Kenya                                     </td><td> 50.22</td><td>11.9</td><td>23.70</td><td>2205</td><td>1444</td><td> 28950</td><td> 552836</td></tr>\n",
       "\t<tr><th scope=row>20</th><td>Bangladesh                                </td><td>159.69</td><td>21.5</td><td>13.46</td><td>2453</td><td>4080</td><td> 68294</td><td> 348188</td></tr>\n",
       "\t<tr><th scope=row>209</th><td>Somalie                                   </td><td> 14.59</td><td> 0.0</td><td> 0.00</td><td>  NA</td><td>  NA</td><td>    NA</td><td> 292678</td></tr>\n",
       "\t<tr><th scope=row>180</th><td>République démocratique du Congo          </td><td> 81.40</td><td> 0.0</td><td> 0.00</td><td>  NA</td><td>  NA</td><td>    NA</td><td> 288502</td></tr>\n",
       "\t<tr><th scope=row>152</th><td>Niger                                     </td><td> 21.60</td><td> 0.0</td><td> 0.00</td><td>2549</td><td>1240</td><td> 10026</td><td> 276344</td></tr>\n",
       "\t<tr><th scope=row>217</th><td>Tchad                                     </td><td> 15.02</td><td> 5.7</td><td>37.96</td><td>2109</td><td> 459</td><td>  5153</td><td> 267966</td></tr>\n",
       "\t<tr><th scope=row>161</th><td>Pakistan                                  </td><td>207.91</td><td>24.8</td><td>11.93</td><td>2438</td><td>5897</td><td>172886</td><td> 231072</td></tr>\n",
       "\t<tr><th scope=row>183</th><td>République populaire démocratique de Corée</td><td> 25.43</td><td>12.0</td><td>47.19</td><td>2093</td><td>1066</td><td> 13883</td><td> 187412</td></tr>\n",
       "\t<tr><th scope=row>1</th><td>Afghanistan                               </td><td> 36.30</td><td>10.5</td><td>28.93</td><td>2087</td><td>1135</td><td> 11171</td><td> 185452</td></tr>\n",
       "\t<tr><th scope=row>175</th><td>République-Unie de Tanzanie               </td><td> 54.66</td><td>13.4</td><td>24.52</td><td>2204</td><td>3236</td><td> 40849</td><td> 172022</td></tr>\n",
       "</tbody>\n",
       "</table>\n"
      ],
      "text/latex": [
       "A data.frame: 15 × 8\n",
       "\\begin{tabular}{r|llllllll}\n",
       "  & pays & pop\\_total & pop\\_sous\\_nut & proportion & Disponibilité.alimentaire..Kcal.personne.jour. & Pertes & Production & quantite\\\\\n",
       "  & <chr> & <dbl> & <dbl> & <dbl> & <dbl> & <dbl> & <dbl> & <int>\\\\\n",
       "\\hline\n",
       "\t176 & République arabe syrienne                  &  17.10 &  0.0 &  0.00 &   NA &   NA &     NA & 1858943\\\\\n",
       "\t67 & Éthiopie                                   & 106.40 & 21.1 & 19.83 & 2129 & 2256 &  46102 & 1381294\\\\\n",
       "\t234 & Yémen                                      &  27.83 &  0.0 &  0.00 & 2217 &  269 &   4125 & 1206484\\\\\n",
       "\t211 & Soudan du Sud                              &  10.91 &  0.0 &  0.00 &   NA &   NA &     NA &  695248\\\\\n",
       "\t210 & Soudan                                     &  40.81 &  5.0 & 12.25 & 2335 &  167 &  30727 &  669784\\\\\n",
       "\t116 & Kenya                                      &  50.22 & 11.9 & 23.70 & 2205 & 1444 &  28950 &  552836\\\\\n",
       "\t20 & Bangladesh                                 & 159.69 & 21.5 & 13.46 & 2453 & 4080 &  68294 &  348188\\\\\n",
       "\t209 & Somalie                                    &  14.59 &  0.0 &  0.00 &   NA &   NA &     NA &  292678\\\\\n",
       "\t180 & République démocratique du Congo           &  81.40 &  0.0 &  0.00 &   NA &   NA &     NA &  288502\\\\\n",
       "\t152 & Niger                                      &  21.60 &  0.0 &  0.00 & 2549 & 1240 &  10026 &  276344\\\\\n",
       "\t217 & Tchad                                      &  15.02 &  5.7 & 37.96 & 2109 &  459 &   5153 &  267966\\\\\n",
       "\t161 & Pakistan                                   & 207.91 & 24.8 & 11.93 & 2438 & 5897 & 172886 &  231072\\\\\n",
       "\t183 & République populaire démocratique de Corée &  25.43 & 12.0 & 47.19 & 2093 & 1066 &  13883 &  187412\\\\\n",
       "\t1 & Afghanistan                                &  36.30 & 10.5 & 28.93 & 2087 & 1135 &  11171 &  185452\\\\\n",
       "\t175 & République-Unie de Tanzanie                &  54.66 & 13.4 & 24.52 & 2204 & 3236 &  40849 &  172022\\\\\n",
       "\\end{tabular}\n"
      ],
      "text/markdown": [
       "\n",
       "A data.frame: 15 × 8\n",
       "\n",
       "| <!--/--> | pays &lt;chr&gt; | pop_total &lt;dbl&gt; | pop_sous_nut &lt;dbl&gt; | proportion &lt;dbl&gt; | Disponibilité.alimentaire..Kcal.personne.jour. &lt;dbl&gt; | Pertes &lt;dbl&gt; | Production &lt;dbl&gt; | quantite &lt;int&gt; |\n",
       "|---|---|---|---|---|---|---|---|---|\n",
       "| 176 | République arabe syrienne                  |  17.10 |  0.0 |  0.00 |   NA |   NA |     NA | 1858943 |\n",
       "| 67 | Éthiopie                                   | 106.40 | 21.1 | 19.83 | 2129 | 2256 |  46102 | 1381294 |\n",
       "| 234 | Yémen                                      |  27.83 |  0.0 |  0.00 | 2217 |  269 |   4125 | 1206484 |\n",
       "| 211 | Soudan du Sud                              |  10.91 |  0.0 |  0.00 |   NA |   NA |     NA |  695248 |\n",
       "| 210 | Soudan                                     |  40.81 |  5.0 | 12.25 | 2335 |  167 |  30727 |  669784 |\n",
       "| 116 | Kenya                                      |  50.22 | 11.9 | 23.70 | 2205 | 1444 |  28950 |  552836 |\n",
       "| 20 | Bangladesh                                 | 159.69 | 21.5 | 13.46 | 2453 | 4080 |  68294 |  348188 |\n",
       "| 209 | Somalie                                    |  14.59 |  0.0 |  0.00 |   NA |   NA |     NA |  292678 |\n",
       "| 180 | République démocratique du Congo           |  81.40 |  0.0 |  0.00 |   NA |   NA |     NA |  288502 |\n",
       "| 152 | Niger                                      |  21.60 |  0.0 |  0.00 | 2549 | 1240 |  10026 |  276344 |\n",
       "| 217 | Tchad                                      |  15.02 |  5.7 | 37.96 | 2109 |  459 |   5153 |  267966 |\n",
       "| 161 | Pakistan                                   | 207.91 | 24.8 | 11.93 | 2438 | 5897 | 172886 |  231072 |\n",
       "| 183 | République populaire démocratique de Corée |  25.43 | 12.0 | 47.19 | 2093 | 1066 |  13883 |  187412 |\n",
       "| 1 | Afghanistan                                |  36.30 | 10.5 | 28.93 | 2087 | 1135 |  11171 |  185452 |\n",
       "| 175 | République-Unie de Tanzanie                |  54.66 | 13.4 | 24.52 | 2204 | 3236 |  40849 |  172022 |\n",
       "\n"
      ],
      "text/plain": [
       "    pays                                       pop_total pop_sous_nut proportion\n",
       "176 République arabe syrienne                   17.10     0.0          0.00     \n",
       "67  Éthiopie                                   106.40    21.1         19.83     \n",
       "234 Yémen                                       27.83     0.0          0.00     \n",
       "211 Soudan du Sud                               10.91     0.0          0.00     \n",
       "210 Soudan                                      40.81     5.0         12.25     \n",
       "116 Kenya                                       50.22    11.9         23.70     \n",
       "20  Bangladesh                                 159.69    21.5         13.46     \n",
       "209 Somalie                                     14.59     0.0          0.00     \n",
       "180 République démocratique du Congo            81.40     0.0          0.00     \n",
       "152 Niger                                       21.60     0.0          0.00     \n",
       "217 Tchad                                       15.02     5.7         37.96     \n",
       "161 Pakistan                                   207.91    24.8         11.93     \n",
       "183 République populaire démocratique de Corée  25.43    12.0         47.19     \n",
       "1   Afghanistan                                 36.30    10.5         28.93     \n",
       "175 République-Unie de Tanzanie                 54.66    13.4         24.52     \n",
       "    Disponibilité.alimentaire..Kcal.personne.jour. Pertes Production quantite\n",
       "176   NA                                             NA       NA     1858943 \n",
       "67  2129                                           2256    46102     1381294 \n",
       "234 2217                                            269     4125     1206484 \n",
       "211   NA                                             NA       NA      695248 \n",
       "210 2335                                            167    30727      669784 \n",
       "116 2205                                           1444    28950      552836 \n",
       "20  2453                                           4080    68294      348188 \n",
       "209   NA                                             NA       NA      292678 \n",
       "180   NA                                             NA       NA      288502 \n",
       "152 2549                                           1240    10026      276344 \n",
       "217 2109                                            459     5153      267966 \n",
       "161 2438                                           5897   172886      231072 \n",
       "183 2093                                           1066    13883      187412 \n",
       "1   2087                                           1135    11171      185452 \n",
       "175 2204                                           3236    40849      172022 "
      ]
     },
     "metadata": {},
     "output_type": "display_data"
    }
   ],
   "source": [
    "head(m_dispo_pop_sous_nut[order(m_dispo_pop_sous_nut$quantite, decreasing = T),],15)"
   ]
  },
  {
   "cell_type": "markdown",
   "id": "9a600155",
   "metadata": {},
   "source": [
    "#### <center><i>Question 3:</i> Pays avec le moins de disponibilité alimentaire</center>"
   ]
  },
  {
   "cell_type": "code",
   "execution_count": 34,
   "id": "7a4c228a",
   "metadata": {},
   "outputs": [
    {
     "data": {
      "text/html": [
       "<table class=\"dataframe\">\n",
       "<caption>A data.frame: 15 × 8</caption>\n",
       "<thead>\n",
       "\t<tr><th></th><th scope=col>pays</th><th scope=col>pop_total</th><th scope=col>pop_sous_nut</th><th scope=col>proportion</th><th scope=col>Disponibilité.alimentaire..Kcal.personne.jour.</th><th scope=col>Pertes</th><th scope=col>Production</th><th scope=col>quantite</th></tr>\n",
       "\t<tr><th></th><th scope=col>&lt;chr&gt;</th><th scope=col>&lt;dbl&gt;</th><th scope=col>&lt;dbl&gt;</th><th scope=col>&lt;dbl&gt;</th><th scope=col>&lt;dbl&gt;</th><th scope=col>&lt;dbl&gt;</th><th scope=col>&lt;dbl&gt;</th><th scope=col>&lt;int&gt;</th></tr>\n",
       "</thead>\n",
       "<tbody>\n",
       "\t<tr><th scope=row>177</th><td>République centrafricaine                 </td><td>  4.596</td><td> 0.0</td><td> 0.00</td><td>1879</td><td> 122</td><td> 2503</td><td>  66610</td></tr>\n",
       "\t<tr><th scope=row>235</th><td>Zambie                                    </td><td> 16.854</td><td> 0.0</td><td> 0.00</td><td>1924</td><td> 242</td><td>10526</td><td>   3026</td></tr>\n",
       "\t<tr><th scope=row>129</th><td>Madagascar                                </td><td> 25.571</td><td>10.5</td><td>41.06</td><td>2056</td><td> 966</td><td>14160</td><td>  96678</td></tr>\n",
       "\t<tr><th scope=row>1</th><td>Afghanistan                               </td><td> 36.296</td><td>10.5</td><td>28.93</td><td>2087</td><td>1135</td><td>11171</td><td> 185452</td></tr>\n",
       "\t<tr><th scope=row>88</th><td>Haïti                                     </td><td> 10.982</td><td> 5.3</td><td>48.26</td><td>2089</td><td> 679</td><td> 5072</td><td> 116450</td></tr>\n",
       "\t<tr><th scope=row>183</th><td>République populaire démocratique de Corée</td><td> 25.430</td><td>12.0</td><td>47.19</td><td>2093</td><td>1066</td><td>13883</td><td> 187412</td></tr>\n",
       "\t<tr><th scope=row>217</th><td>Tchad                                     </td><td> 15.017</td><td> 5.7</td><td>37.96</td><td>2109</td><td> 459</td><td> 5153</td><td> 267966</td></tr>\n",
       "\t<tr><th scope=row>236</th><td>Zimbabwe                                  </td><td> 14.237</td><td> 0.0</td><td> 0.00</td><td>2113</td><td> 188</td><td> 7914</td><td>  62570</td></tr>\n",
       "\t<tr><th scope=row>159</th><td>Ouganda                                   </td><td> 41.167</td><td> 0.0</td><td> 0.00</td><td>2126</td><td> 991</td><td>26321</td><td>  64622</td></tr>\n",
       "\t<tr><th scope=row>67</th><td>Éthiopie                                  </td><td>106.400</td><td>21.1</td><td>19.83</td><td>2129</td><td>2256</td><td>46102</td><td>1381294</td></tr>\n",
       "\t<tr><th scope=row>220</th><td>Timor-Leste                               </td><td>  1.243</td><td> 0.4</td><td>32.17</td><td>2129</td><td>  14</td><td>  371</td><td>    116</td></tr>\n",
       "\t<tr><th scope=row>148</th><td>Namibie                                   </td><td>  2.403</td><td> 0.3</td><td>12.49</td><td>2166</td><td> 107</td><td> 1468</td><td>     NA</td></tr>\n",
       "\t<tr><th scope=row>216</th><td>Tadjikistan                               </td><td>  8.880</td><td> 0.0</td><td> 0.00</td><td>2199</td><td> 266</td><td> 6371</td><td>   2028</td></tr>\n",
       "\t<tr><th scope=row>175</th><td>République-Unie de Tanzanie               </td><td> 54.660</td><td>13.4</td><td>24.52</td><td>2204</td><td>3236</td><td>40849</td><td> 172022</td></tr>\n",
       "\t<tr><th scope=row>116</th><td>Kenya                                     </td><td> 50.221</td><td>11.9</td><td>23.70</td><td>2205</td><td>1444</td><td>28950</td><td> 552836</td></tr>\n",
       "</tbody>\n",
       "</table>\n"
      ],
      "text/latex": [
       "A data.frame: 15 × 8\n",
       "\\begin{tabular}{r|llllllll}\n",
       "  & pays & pop\\_total & pop\\_sous\\_nut & proportion & Disponibilité.alimentaire..Kcal.personne.jour. & Pertes & Production & quantite\\\\\n",
       "  & <chr> & <dbl> & <dbl> & <dbl> & <dbl> & <dbl> & <dbl> & <int>\\\\\n",
       "\\hline\n",
       "\t177 & République centrafricaine                  &   4.596 &  0.0 &  0.00 & 1879 &  122 &  2503 &   66610\\\\\n",
       "\t235 & Zambie                                     &  16.854 &  0.0 &  0.00 & 1924 &  242 & 10526 &    3026\\\\\n",
       "\t129 & Madagascar                                 &  25.571 & 10.5 & 41.06 & 2056 &  966 & 14160 &   96678\\\\\n",
       "\t1 & Afghanistan                                &  36.296 & 10.5 & 28.93 & 2087 & 1135 & 11171 &  185452\\\\\n",
       "\t88 & Haïti                                      &  10.982 &  5.3 & 48.26 & 2089 &  679 &  5072 &  116450\\\\\n",
       "\t183 & République populaire démocratique de Corée &  25.430 & 12.0 & 47.19 & 2093 & 1066 & 13883 &  187412\\\\\n",
       "\t217 & Tchad                                      &  15.017 &  5.7 & 37.96 & 2109 &  459 &  5153 &  267966\\\\\n",
       "\t236 & Zimbabwe                                   &  14.237 &  0.0 &  0.00 & 2113 &  188 &  7914 &   62570\\\\\n",
       "\t159 & Ouganda                                    &  41.167 &  0.0 &  0.00 & 2126 &  991 & 26321 &   64622\\\\\n",
       "\t67 & Éthiopie                                   & 106.400 & 21.1 & 19.83 & 2129 & 2256 & 46102 & 1381294\\\\\n",
       "\t220 & Timor-Leste                                &   1.243 &  0.4 & 32.17 & 2129 &   14 &   371 &     116\\\\\n",
       "\t148 & Namibie                                    &   2.403 &  0.3 & 12.49 & 2166 &  107 &  1468 &      NA\\\\\n",
       "\t216 & Tadjikistan                                &   8.880 &  0.0 &  0.00 & 2199 &  266 &  6371 &    2028\\\\\n",
       "\t175 & République-Unie de Tanzanie                &  54.660 & 13.4 & 24.52 & 2204 & 3236 & 40849 &  172022\\\\\n",
       "\t116 & Kenya                                      &  50.221 & 11.9 & 23.70 & 2205 & 1444 & 28950 &  552836\\\\\n",
       "\\end{tabular}\n"
      ],
      "text/markdown": [
       "\n",
       "A data.frame: 15 × 8\n",
       "\n",
       "| <!--/--> | pays &lt;chr&gt; | pop_total &lt;dbl&gt; | pop_sous_nut &lt;dbl&gt; | proportion &lt;dbl&gt; | Disponibilité.alimentaire..Kcal.personne.jour. &lt;dbl&gt; | Pertes &lt;dbl&gt; | Production &lt;dbl&gt; | quantite &lt;int&gt; |\n",
       "|---|---|---|---|---|---|---|---|---|\n",
       "| 177 | République centrafricaine                  |   4.596 |  0.0 |  0.00 | 1879 |  122 |  2503 |   66610 |\n",
       "| 235 | Zambie                                     |  16.854 |  0.0 |  0.00 | 1924 |  242 | 10526 |    3026 |\n",
       "| 129 | Madagascar                                 |  25.571 | 10.5 | 41.06 | 2056 |  966 | 14160 |   96678 |\n",
       "| 1 | Afghanistan                                |  36.296 | 10.5 | 28.93 | 2087 | 1135 | 11171 |  185452 |\n",
       "| 88 | Haïti                                      |  10.982 |  5.3 | 48.26 | 2089 |  679 |  5072 |  116450 |\n",
       "| 183 | République populaire démocratique de Corée |  25.430 | 12.0 | 47.19 | 2093 | 1066 | 13883 |  187412 |\n",
       "| 217 | Tchad                                      |  15.017 |  5.7 | 37.96 | 2109 |  459 |  5153 |  267966 |\n",
       "| 236 | Zimbabwe                                   |  14.237 |  0.0 |  0.00 | 2113 |  188 |  7914 |   62570 |\n",
       "| 159 | Ouganda                                    |  41.167 |  0.0 |  0.00 | 2126 |  991 | 26321 |   64622 |\n",
       "| 67 | Éthiopie                                   | 106.400 | 21.1 | 19.83 | 2129 | 2256 | 46102 | 1381294 |\n",
       "| 220 | Timor-Leste                                |   1.243 |  0.4 | 32.17 | 2129 |   14 |   371 |     116 |\n",
       "| 148 | Namibie                                    |   2.403 |  0.3 | 12.49 | 2166 |  107 |  1468 |      NA |\n",
       "| 216 | Tadjikistan                                |   8.880 |  0.0 |  0.00 | 2199 |  266 |  6371 |    2028 |\n",
       "| 175 | République-Unie de Tanzanie                |  54.660 | 13.4 | 24.52 | 2204 | 3236 | 40849 |  172022 |\n",
       "| 116 | Kenya                                      |  50.221 | 11.9 | 23.70 | 2205 | 1444 | 28950 |  552836 |\n",
       "\n"
      ],
      "text/plain": [
       "    pays                                       pop_total pop_sous_nut proportion\n",
       "177 République centrafricaine                    4.596    0.0          0.00     \n",
       "235 Zambie                                      16.854    0.0          0.00     \n",
       "129 Madagascar                                  25.571   10.5         41.06     \n",
       "1   Afghanistan                                 36.296   10.5         28.93     \n",
       "88  Haïti                                       10.982    5.3         48.26     \n",
       "183 République populaire démocratique de Corée  25.430   12.0         47.19     \n",
       "217 Tchad                                       15.017    5.7         37.96     \n",
       "236 Zimbabwe                                    14.237    0.0          0.00     \n",
       "159 Ouganda                                     41.167    0.0          0.00     \n",
       "67  Éthiopie                                   106.400   21.1         19.83     \n",
       "220 Timor-Leste                                  1.243    0.4         32.17     \n",
       "148 Namibie                                      2.403    0.3         12.49     \n",
       "216 Tadjikistan                                  8.880    0.0          0.00     \n",
       "175 République-Unie de Tanzanie                 54.660   13.4         24.52     \n",
       "116 Kenya                                       50.221   11.9         23.70     \n",
       "    Disponibilité.alimentaire..Kcal.personne.jour. Pertes Production quantite\n",
       "177 1879                                            122    2503        66610 \n",
       "235 1924                                            242   10526         3026 \n",
       "129 2056                                            966   14160        96678 \n",
       "1   2087                                           1135   11171       185452 \n",
       "88  2089                                            679    5072       116450 \n",
       "183 2093                                           1066   13883       187412 \n",
       "217 2109                                            459    5153       267966 \n",
       "236 2113                                            188    7914        62570 \n",
       "159 2126                                            991   26321        64622 \n",
       "67  2129                                           2256   46102      1381294 \n",
       "220 2129                                             14     371          116 \n",
       "148 2166                                            107    1468           NA \n",
       "216 2199                                            266    6371         2028 \n",
       "175 2204                                           3236   40849       172022 \n",
       "116 2205                                           1444   28950       552836 "
      ]
     },
     "metadata": {},
     "output_type": "display_data"
    }
   ],
   "source": [
    "head(m_dispo_pop_sous_nut[order(m_dispo_pop_sous_nut$Disponibilité.alimentaire..Kcal.personne.jour.),],15)"
   ]
  },
  {
   "cell_type": "markdown",
   "id": "6c725af6",
   "metadata": {},
   "source": [
    "#### <center><i>Question 4:</i> Pays avec le plus de disponibilité alimentaire</center>"
   ]
  },
  {
   "cell_type": "code",
   "execution_count": 35,
   "id": "9c36667b",
   "metadata": {},
   "outputs": [
    {
     "data": {
      "text/html": [
       "<table class=\"dataframe\">\n",
       "<caption>A data.frame: 15 × 8</caption>\n",
       "<thead>\n",
       "\t<tr><th></th><th scope=col>pays</th><th scope=col>pop_total</th><th scope=col>pop_sous_nut</th><th scope=col>proportion</th><th scope=col>Disponibilité.alimentaire..Kcal.personne.jour.</th><th scope=col>Pertes</th><th scope=col>Production</th><th scope=col>quantite</th></tr>\n",
       "\t<tr><th></th><th scope=col>&lt;chr&gt;</th><th scope=col>&lt;dbl&gt;</th><th scope=col>&lt;dbl&gt;</th><th scope=col>&lt;dbl&gt;</th><th scope=col>&lt;dbl&gt;</th><th scope=col>&lt;dbl&gt;</th><th scope=col>&lt;dbl&gt;</th><th scope=col>&lt;int&gt;</th></tr>\n",
       "</thead>\n",
       "<tbody>\n",
       "\t<tr><th scope=row>16</th><td>Autriche             </td><td>  8.8199</td><td>0.0</td><td>0.00</td><td>3770</td><td>  459</td><td> 18129</td><td>  NA</td></tr>\n",
       "\t<tr><th scope=row>23</th><td>Belgique             </td><td> 11.4197</td><td>0.0</td><td>0.00</td><td>3737</td><td>  564</td><td> 24496</td><td>  NA</td></tr>\n",
       "\t<tr><th scope=row>227</th><td>Turquie              </td><td> 81.1165</td><td>0.0</td><td>0.00</td><td>3708</td><td>12036</td><td>137432</td><td>  NA</td></tr>\n",
       "\t<tr><th scope=row>66</th><td>États-Unis d'Amérique</td><td>325.0848</td><td>0.0</td><td>0.00</td><td>3682</td><td> 7162</td><td>894668</td><td>  NA</td></tr>\n",
       "\t<tr><th scope=row>110</th><td>Israël               </td><td>  8.2438</td><td>0.0</td><td>0.00</td><td>3610</td><td>  220</td><td>  6906</td><td>  NA</td></tr>\n",
       "\t<tr><th scope=row>108</th><td>Irlande              </td><td>  4.7533</td><td>0.0</td><td>0.00</td><td>3602</td><td>  236</td><td> 11501</td><td>  NA</td></tr>\n",
       "\t<tr><th scope=row>111</th><td>Italie               </td><td> 60.6737</td><td>0.0</td><td>0.00</td><td>3578</td><td> 1861</td><td> 80855</td><td>  NA</td></tr>\n",
       "\t<tr><th scope=row>127</th><td>Luxembourg           </td><td>  0.5919</td><td>0.0</td><td>0.00</td><td>3540</td><td>   11</td><td>   593</td><td>  NA</td></tr>\n",
       "\t<tr><th scope=row>58</th><td>Égypte               </td><td> 96.4426</td><td>4.6</td><td>4.77</td><td>3518</td><td> 7608</td><td> 95848</td><td>1122</td></tr>\n",
       "\t<tr><th scope=row>5</th><td>Allemagne            </td><td> 82.6584</td><td>0.0</td><td>0.00</td><td>3503</td><td> 3781</td><td>154547</td><td>  NA</td></tr>\n",
       "\t<tr><th scope=row>40</th><td>Canada               </td><td> 36.7321</td><td>0.0</td><td>0.00</td><td>3499</td><td> 2118</td><td>127553</td><td>  NA</td></tr>\n",
       "\t<tr><th scope=row>119</th><td>Koweït               </td><td>  4.0561</td><td>0.0</td><td>0.00</td><td>3499</td><td>  159</td><td>   636</td><td>  NA</td></tr>\n",
       "\t<tr><th scope=row>144</th><td>Monténégro           </td><td>  0.6276</td><td>0.0</td><td>0.00</td><td>3490</td><td>   33</td><td>   591</td><td>  NA</td></tr>\n",
       "\t<tr><th scope=row>155</th><td>Norvège              </td><td>  5.2963</td><td>0.0</td><td>0.00</td><td>3483</td><td>  134</td><td>  7437</td><td>  NA</td></tr>\n",
       "\t<tr><th scope=row>71</th><td>France               </td><td> 64.8425</td><td>0.0</td><td>0.00</td><td>3482</td><td> 3261</td><td>178136</td><td>  NA</td></tr>\n",
       "</tbody>\n",
       "</table>\n"
      ],
      "text/latex": [
       "A data.frame: 15 × 8\n",
       "\\begin{tabular}{r|llllllll}\n",
       "  & pays & pop\\_total & pop\\_sous\\_nut & proportion & Disponibilité.alimentaire..Kcal.personne.jour. & Pertes & Production & quantite\\\\\n",
       "  & <chr> & <dbl> & <dbl> & <dbl> & <dbl> & <dbl> & <dbl> & <int>\\\\\n",
       "\\hline\n",
       "\t16 & Autriche              &   8.8199 & 0.0 & 0.00 & 3770 &   459 &  18129 &   NA\\\\\n",
       "\t23 & Belgique              &  11.4197 & 0.0 & 0.00 & 3737 &   564 &  24496 &   NA\\\\\n",
       "\t227 & Turquie               &  81.1165 & 0.0 & 0.00 & 3708 & 12036 & 137432 &   NA\\\\\n",
       "\t66 & États-Unis d'Amérique & 325.0848 & 0.0 & 0.00 & 3682 &  7162 & 894668 &   NA\\\\\n",
       "\t110 & Israël                &   8.2438 & 0.0 & 0.00 & 3610 &   220 &   6906 &   NA\\\\\n",
       "\t108 & Irlande               &   4.7533 & 0.0 & 0.00 & 3602 &   236 &  11501 &   NA\\\\\n",
       "\t111 & Italie                &  60.6737 & 0.0 & 0.00 & 3578 &  1861 &  80855 &   NA\\\\\n",
       "\t127 & Luxembourg            &   0.5919 & 0.0 & 0.00 & 3540 &    11 &    593 &   NA\\\\\n",
       "\t58 & Égypte                &  96.4426 & 4.6 & 4.77 & 3518 &  7608 &  95848 & 1122\\\\\n",
       "\t5 & Allemagne             &  82.6584 & 0.0 & 0.00 & 3503 &  3781 & 154547 &   NA\\\\\n",
       "\t40 & Canada                &  36.7321 & 0.0 & 0.00 & 3499 &  2118 & 127553 &   NA\\\\\n",
       "\t119 & Koweït                &   4.0561 & 0.0 & 0.00 & 3499 &   159 &    636 &   NA\\\\\n",
       "\t144 & Monténégro            &   0.6276 & 0.0 & 0.00 & 3490 &    33 &    591 &   NA\\\\\n",
       "\t155 & Norvège               &   5.2963 & 0.0 & 0.00 & 3483 &   134 &   7437 &   NA\\\\\n",
       "\t71 & France                &  64.8425 & 0.0 & 0.00 & 3482 &  3261 & 178136 &   NA\\\\\n",
       "\\end{tabular}\n"
      ],
      "text/markdown": [
       "\n",
       "A data.frame: 15 × 8\n",
       "\n",
       "| <!--/--> | pays &lt;chr&gt; | pop_total &lt;dbl&gt; | pop_sous_nut &lt;dbl&gt; | proportion &lt;dbl&gt; | Disponibilité.alimentaire..Kcal.personne.jour. &lt;dbl&gt; | Pertes &lt;dbl&gt; | Production &lt;dbl&gt; | quantite &lt;int&gt; |\n",
       "|---|---|---|---|---|---|---|---|---|\n",
       "| 16 | Autriche              |   8.8199 | 0.0 | 0.00 | 3770 |   459 |  18129 |   NA |\n",
       "| 23 | Belgique              |  11.4197 | 0.0 | 0.00 | 3737 |   564 |  24496 |   NA |\n",
       "| 227 | Turquie               |  81.1165 | 0.0 | 0.00 | 3708 | 12036 | 137432 |   NA |\n",
       "| 66 | États-Unis d'Amérique | 325.0848 | 0.0 | 0.00 | 3682 |  7162 | 894668 |   NA |\n",
       "| 110 | Israël                |   8.2438 | 0.0 | 0.00 | 3610 |   220 |   6906 |   NA |\n",
       "| 108 | Irlande               |   4.7533 | 0.0 | 0.00 | 3602 |   236 |  11501 |   NA |\n",
       "| 111 | Italie                |  60.6737 | 0.0 | 0.00 | 3578 |  1861 |  80855 |   NA |\n",
       "| 127 | Luxembourg            |   0.5919 | 0.0 | 0.00 | 3540 |    11 |    593 |   NA |\n",
       "| 58 | Égypte                |  96.4426 | 4.6 | 4.77 | 3518 |  7608 |  95848 | 1122 |\n",
       "| 5 | Allemagne             |  82.6584 | 0.0 | 0.00 | 3503 |  3781 | 154547 |   NA |\n",
       "| 40 | Canada                |  36.7321 | 0.0 | 0.00 | 3499 |  2118 | 127553 |   NA |\n",
       "| 119 | Koweït                |   4.0561 | 0.0 | 0.00 | 3499 |   159 |    636 |   NA |\n",
       "| 144 | Monténégro            |   0.6276 | 0.0 | 0.00 | 3490 |    33 |    591 |   NA |\n",
       "| 155 | Norvège               |   5.2963 | 0.0 | 0.00 | 3483 |   134 |   7437 |   NA |\n",
       "| 71 | France                |  64.8425 | 0.0 | 0.00 | 3482 |  3261 | 178136 |   NA |\n",
       "\n"
      ],
      "text/plain": [
       "    pays                  pop_total pop_sous_nut proportion Disponibilité.alimentaire..Kcal.personne.jour. Pertes\n",
       "16  Autriche                8.8199  0.0          0.00       3770                                             459 \n",
       "23  Belgique               11.4197  0.0          0.00       3737                                             564 \n",
       "227 Turquie                81.1165  0.0          0.00       3708                                           12036 \n",
       "66  États-Unis d'Amérique 325.0848  0.0          0.00       3682                                            7162 \n",
       "110 Israël                  8.2438  0.0          0.00       3610                                             220 \n",
       "108 Irlande                 4.7533  0.0          0.00       3602                                             236 \n",
       "111 Italie                 60.6737  0.0          0.00       3578                                            1861 \n",
       "127 Luxembourg              0.5919  0.0          0.00       3540                                              11 \n",
       "58  Égypte                 96.4426  4.6          4.77       3518                                            7608 \n",
       "5   Allemagne              82.6584  0.0          0.00       3503                                            3781 \n",
       "40  Canada                 36.7321  0.0          0.00       3499                                            2118 \n",
       "119 Koweït                  4.0561  0.0          0.00       3499                                             159 \n",
       "144 Monténégro              0.6276  0.0          0.00       3490                                              33 \n",
       "155 Norvège                 5.2963  0.0          0.00       3483                                             134 \n",
       "71  France                 64.8425  0.0          0.00       3482                                            3261 \n",
       "    Production quantite\n",
       "16   18129       NA    \n",
       "23   24496       NA    \n",
       "227 137432       NA    \n",
       "66  894668       NA    \n",
       "110   6906       NA    \n",
       "108  11501       NA    \n",
       "111  80855       NA    \n",
       "127    593       NA    \n",
       "58   95848     1122    \n",
       "5   154547       NA    \n",
       "40  127553       NA    \n",
       "119    636       NA    \n",
       "144    591       NA    \n",
       "155   7437       NA    \n",
       "71  178136       NA    "
      ]
     },
     "metadata": {},
     "output_type": "display_data"
    }
   ],
   "source": [
    "head(m_dispo_pop_sous_nut[order(m_dispo_pop_sous_nut$Disponibilité.alimentaire..Kcal.personne.jour., decreasing = T),],15)"
   ]
  }
 ],
 "metadata": {
  "celltoolbar": "Format de la Cellule Texte Brut",
  "kernelspec": {
   "display_name": "R",
   "language": "R",
   "name": "ir"
  },
  "language_info": {
   "codemirror_mode": "r",
   "file_extension": ".r",
   "mimetype": "text/x-r-source",
   "name": "R",
   "pygments_lexer": "r",
   "version": "4.1.0"
  }
 },
 "nbformat": 4,
 "nbformat_minor": 5
}
